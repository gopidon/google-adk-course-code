{
  "nbformat": 4,
  "nbformat_minor": 0,
  "metadata": {
    "colab": {
      "provenance": []
    },
    "kernelspec": {
      "name": "python3",
      "display_name": "Python 3"
    },
    "language_info": {
      "name": "python"
    }
  },
  "cells": [
    {
      "cell_type": "markdown",
      "source": [
        "## ⚙️ 1. Setup: Install Libraries\n",
        "\n",
        "First, let's install the specific version of the Google Agent Development Kit (ADK) that this notebook is built with. Pinning the version ensures our code will always work as expected."
      ],
      "metadata": {
        "id": "2cYQz0sLzgWp"
      }
    },
    {
      "cell_type": "code",
      "execution_count": null,
      "metadata": {
        "id": "HhOQe-fF78qf"
      },
      "outputs": [],
      "source": [
        "!pip install google-adk==1.8.0 -q"
      ]
    },
    {
      "cell_type": "markdown",
      "source": [
        "## 🔑 2. Authentication: Configure Your API Key\n",
        "\n",
        "Next, we need to securely provide our Google API key. This code will create a secure input prompt for you to paste your key. It then sets the key as an environment variable, which is the standard way the ADK authenticates your requests."
      ],
      "metadata": {
        "id": "NUO_JO4YzpP8"
      }
    },
    {
      "cell_type": "code",
      "source": [
        "import os\n",
        "from getpass import getpass\n",
        "\n",
        "# Prompt the user for their API key securely\n",
        "api_key = getpass('Enter your Google API Key: ')\n",
        "\n",
        "# Set the API key as an environment variable for ADK to use\n",
        "os.environ['GOOGLE_API_KEY'] = api_key\n",
        "\n",
        "print(\"✅ API Key configured successfully! Let the fun begin.\")"
      ],
      "metadata": {
        "id": "iI7QIhQ99wmU"
      },
      "execution_count": null,
      "outputs": []
    },
    {
      "cell_type": "markdown",
      "source": [
        "## 🛠️ 3. Define Custom Tools\n",
        "\n",
        "Here, we define the custom skills for our guest management agent. These are simple Python functions that interact with a dictionary acting as our guest database. The ADK will use the function names, signatures, and docstrings to understand how and when to call them."
      ],
      "metadata": {
        "id": "cAEdr8QPzys4"
      }
    },
    {
      "cell_type": "code",
      "source": [
        "import json\n",
        "\n",
        "# Simple dictionary to act as our guest list database.\n",
        "GUEST_DATABASE = {}\n",
        "\n",
        "def add_guest(name: str, email: str) -> str:\n",
        "  \"\"\"Adds a guest's name and email to the event's guest list.\"\"\"\n",
        "  print(f\"Tool executed: Adding guest '{name}' with email '{email}'.\")\n",
        "  GUEST_DATABASE[email] = name\n",
        "  return f\"Successfully added {name} to the guest list.\"\n",
        "\n",
        "def get_guest_list() -> str:\n",
        "  \"\"\"Retrieves the current list of all registered guests for the event.\"\"\"\n",
        "  print(\"Tool executed: Retrieving guest list.\")\n",
        "  if not GUEST_DATABASE:\n",
        "    return \"The guest list is currently empty.\"\n",
        "  return json.dumps(GUEST_DATABASE)"
      ],
      "metadata": {
        "id": "XYFdPgVR9__r"
      },
      "execution_count": null,
      "outputs": []
    },
    {
      "cell_type": "markdown",
      "source": [
        "## 🧑‍💼 4. Create Specialist Agent 1: The Guest Manager\n",
        "\n",
        "This is our first specialist agent. Its only job is to manage the event's guest list. We provide it with the add_guest and get_guest_list functions as its tools and give it clear instructions on how to use them."
      ],
      "metadata": {
        "id": "cy-SwXAtz6-I"
      }
    },
    {
      "cell_type": "code",
      "source": [
        "from google.adk.agents import Agent\n",
        "\n",
        "guest_management_agent = Agent(\n",
        "    name=\"guest_management_agent\",\n",
        "    model=\"gemini-2.5-flash\",\n",
        "    description=\"A specialized agent for managing an event's guest list. It can add guests and retrieve the current list.\",\n",
        "    instruction=\"\"\"\n",
        "    You are a guest management assistant. Your only job is to add guests to a list\n",
        "    or retrieve the full list when asked.\n",
        "\n",
        "    - Use the `add_guest` tool to add a new person to the list.\n",
        "    - Use the `get_guest_list` tool to show the current guest list.\n",
        "\n",
        "    You do not perform any other tasks like planning events or searching for information.\n",
        "    Stick strictly to managing the guest list with your tools.\n",
        "    \"\"\",\n",
        "    tools=[add_guest, get_guest_list]\n",
        ")"
      ],
      "metadata": {
        "id": "H1IVGdk2-Fwd"
      },
      "execution_count": null,
      "outputs": []
    },
    {
      "cell_type": "markdown",
      "source": [
        "## 🧑‍🎨 5. Create Specialist Agent 2: The Event Planner\n",
        "\n",
        "This is our second specialist. Its expertise lies in planning events using the built-in Google Search tool. It is instructed to handle all aspects of planning but knows nothing about managing guests."
      ],
      "metadata": {
        "id": "_nLqjpY3z_ju"
      }
    },
    {
      "cell_type": "code",
      "source": [
        "from google.adk.tools import google_search\n",
        "\n",
        "def create_event_planner_agent():\n",
        "    \"\"\"Create event planner agent\"\"\"\n",
        "    return Agent(\n",
        "        name=\"event_planner_agent\",\n",
        "        model=\"gemini-2.5-flash\",\n",
        "        description=\"A specialist agent that plans events by searching for themes, venues, and schedules. It can revise the plan based on user feedback.\",\n",
        "        instruction=\"\"\"\n",
        "        You are an expert event planner. Your only goal is to create a comprehensive plan for an event.\n",
        "\n",
        "        Your process is as follows:\n",
        "        1.  **Brainstorm Themes:** Suggest 2-3 creative themes.\n",
        "        2.  **Find Venues:** Use your search tool to find 3-5 potential venues.\n",
        "        3.  **Create an Agenda:** Propose a high-level schedule for the event.\n",
        "        4.  **Summarize Clearly:** Present the final plan in an organized format.\n",
        "\n",
        "        You do not handle guest lists or any other tasks. Stick to planning.\n",
        "\n",
        "        Always be friendly and confirm your actions to the user.\n",
        "        \"\"\",\n",
        "        tools=[google_search]\n",
        "    )\n",
        "\n",
        "event_planner_agent = create_event_planner_agent()\n",
        "print(f\"🧞 Agent '{event_planner_agent.name}' is created and ready!\")"
      ],
      "metadata": {
        "id": "yZmcArA3-Of7"
      },
      "execution_count": null,
      "outputs": []
    },
    {
      "cell_type": "markdown",
      "source": [
        "## 👔 6. Assemble the Agent Team\n",
        "\n",
        "This is the core of the \"Agent-as-a-Tool\" pattern. We use AgentTool to wrap our two specialist agents, making them callable as tools. We then create a \"manager\" agent, the root_orchestrator_agent, whose only job is to delegate tasks to its team members."
      ],
      "metadata": {
        "id": "IOpgZaT10Fg4"
      }
    },
    {
      "cell_type": "code",
      "source": [
        "from google.adk.tools.agent_tool import AgentTool\n",
        "\n",
        "event_planner_tool = AgentTool(agent=event_planner_agent)\n",
        "guest_list_manager_tool = AgentTool(agent=guest_management_agent)"
      ],
      "metadata": {
        "id": "mvd76dD_-pmV"
      },
      "execution_count": null,
      "outputs": []
    },
    {
      "cell_type": "code",
      "source": [
        "root_orchestrator_agent = Agent(\n",
        "    name=\"root_orchestrator_agent\",\n",
        "    model=\"gemini-2.5-flash\",\n",
        "    description=\"The main orchestrator that delegates tasks to specialist agents for event planning and guest management.\",\n",
        "    instruction=\"\"\"\n",
        "    You are the root orchestrator managing an ongoing conversation. Your job is to understand the full context of the user's request and delegate it to the correct specialist tool.\n",
        "\n",
        "    - If the user wants to plan an event, find venues, or create a schedule, use the `event_planner_tool`.\n",
        "    - If the user wants to add, view, or manage guests, use the `guest_list_manager_tool`.\n",
        "\n",
        "    Do not try to answer the user's query directly. Always delegate to the appropriate tool. Do not summarize responses from the tools.\n",
        "\n",
        "    \"\"\",\n",
        "    tools=[event_planner_tool, guest_list_manager_tool]\n",
        ")"
      ],
      "metadata": {
        "id": "2dMdaZ5T-jat"
      },
      "execution_count": null,
      "outputs": []
    },
    {
      "cell_type": "markdown",
      "source": [
        "## 🚀 7. Build the Execution Engine\n",
        "\n",
        "This is our helper function to run queries. It handles the core ADK logic: initializing the Runner, streaming events with run_async, and displaying the final response. We'll use this function to interact with our orchestrator."
      ],
      "metadata": {
        "id": "42I66_JH0PyB"
      }
    },
    {
      "cell_type": "code",
      "source": [
        "from IPython.display import display, Markdown\n",
        "\n",
        "from google.genai.types import Content, Part\n",
        "from google.adk.runners import Runner\n",
        "from google.adk.sessions import InMemorySessionService, Session\n",
        "\n",
        "\n",
        "async def run_agent_query(agent: Agent, query: str, session: Session, user_id: str):\n",
        "    \"\"\"Initializes a runner and executes a query for a given agent and session.\"\"\"\n",
        "    print(f\"\\n🚀 Running query for agent: '{agent.name}' in session: '{session.id}'...\")\n",
        "\n",
        "    runner = Runner(\n",
        "        agent=agent,\n",
        "        session_service=session_service,\n",
        "        app_name=agent.name\n",
        "    )\n",
        "\n",
        "    final_response = \"\"\n",
        "    try:\n",
        "        async for event in runner.run_async(\n",
        "            user_id=user_id,\n",
        "            session_id=session.id,\n",
        "            new_message=Content(parts=[Part(text=query)], role=\"user\")\n",
        "        ):\n",
        "            if event.is_final_response():\n",
        "                final_response = event.content.parts[0].text\n",
        "    except Exception as e:\n",
        "        final_response = f\"An error occurred: {e}\"\n",
        "\n",
        "    print(\"\\n\" + \"-\"*50)\n",
        "    print(\"✅ Final Response:\")\n",
        "    display(Markdown(final_response))\n",
        "    print(\"-\"*50 + \"\\n\")\n",
        "\n",
        "    return final_response"
      ],
      "metadata": {
        "id": "jlF5MQrF-3KF"
      },
      "execution_count": null,
      "outputs": []
    },
    {
      "cell_type": "markdown",
      "source": [
        "## 🧠 8. Initialize Session Service and Run\n",
        "\n",
        "Finally, we set up our InMemorySessionService and define our main execution block. This code will create a single session for the orchestrator and then send it a series of queries to demonstrate how it intelligently routes tasks to the correct specialist agent."
      ],
      "metadata": {
        "id": "T_QsMsoh0U30"
      }
    },
    {
      "cell_type": "code",
      "source": [
        "# --- Initialize our Session Service ---\n",
        "# This one service will manage all the different sessions in our notebook.\n",
        "session_service = InMemorySessionService()\n",
        "user_id = \"adk_event_planner_001\""
      ],
      "metadata": {
        "id": "ARJYETQN0gop"
      },
      "execution_count": null,
      "outputs": []
    },
    {
      "cell_type": "code",
      "source": [
        "async def run_stateful_orchestrator():\n",
        "\n",
        "  session = await session_service.create_session(\n",
        "        app_name=root_orchestrator_agent.name,\n",
        "        user_id=user_id\n",
        "  )\n",
        "\n",
        "  query1 = \"Plan an AI/ML meetup in New York\"\n",
        "  print(f\"User: {query1}\\n\")\n",
        "  await run_agent_query(root_orchestrator_agent, query1, session, user_id)\n",
        "\n",
        "  query2 = \"Add 'Tim Apple' with email 'tim.a@example.com' to the guest list.\"\n",
        "  print(f\"User: {query2}\\n\")\n",
        "  await run_agent_query(root_orchestrator_agent, query2, session, user_id)\n",
        "\n",
        "  query3 = \"Now show me the guest list.\"\n",
        "  await run_agent_query(root_orchestrator_agent, query3, session, user_id)\n",
        "# Run the full system\n",
        "await run_stateful_orchestrator()"
      ],
      "metadata": {
        "id": "dPfN33vW_M4m"
      },
      "execution_count": null,
      "outputs": []
    }
  ]
}
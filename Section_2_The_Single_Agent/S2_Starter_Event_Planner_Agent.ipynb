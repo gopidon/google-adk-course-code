{
  "nbformat": 4,
  "nbformat_minor": 0,
  "metadata": {
    "colab": {
      "provenance": []
    },
    "kernelspec": {
      "name": "python3",
      "display_name": "Python 3"
    },
    "language_info": {
      "name": "python"
    }
  },
  "cells": [
    {
      "cell_type": "markdown",
      "source": [
        "## ⚙️ 1. Setup: Install Libraries and import dependencies\n",
        "\n",
        "First, let's install the specific version of the Google Agent Development Kit (ADK) that this notebook is built with. Pinning the version ensures our code will always work as expected. We will also import all the necessary modules from the ADK and other libraries."
      ],
      "metadata": {
        "id": "KLFsXyoN25Kw"
      }
    },
    {
      "cell_type": "code",
      "execution_count": null,
      "metadata": {
        "id": "3HEsg_-a8Gg3"
      },
      "outputs": [],
      "source": [
        "!pip install google-adk==1.13.0 -q"
      ]
    },
    {
      "cell_type": "markdown",
      "source": [
        "## 🔑 2. Authentication: Configure Your API Key\n",
        "\n",
        "Next, we need to securely provide our Google API key. This code will create a secure input prompt for you to paste your key. It then sets the key as an environment variable, which is the standard way the ADK authenticates your requests."
      ],
      "metadata": {
        "id": "M2yfjSmo2_Mz"
      }
    },
    {
      "cell_type": "code",
      "source": [
        "import os\n",
        "from getpass import getpass\n",
        "\n",
        "# Prompt the user for their API key securely\n",
        "api_key = getpass('Enter your Google API Key: ')\n",
        "\n",
        "# Set the API key as an environment variable for ADK to use\n",
        "os.environ['GOOGLE_API_KEY'] = api_key\n",
        "\n",
        "print(\"✅ API Key configured successfully!\")"
      ],
      "metadata": {
        "id": "IIlQQvQk9gS3"
      },
      "execution_count": null,
      "outputs": []
    },
    {
      "cell_type": "markdown",
      "source": [
        "## 🧞 3. Define the Agent's Blueprint\n",
        "\n",
        "This is where we define our first agent. We create a function that returns an Agent instance. We give it a name, model, a detailed instruction prompt telling it how to behave like an expert event planner, and a tools list containing the built-in Google Search tool."
      ],
      "metadata": {
        "id": "DbTJ043_3lVX"
      }
    },
    {
      "cell_type": "code",
      "source": [],
      "metadata": {
        "id": "3AUlTHTl9pjl"
      },
      "execution_count": null,
      "outputs": []
    },
    {
      "cell_type": "markdown",
      "source": [
        "# 🧠 4. Initialize Session Service\n",
        "\n",
        "Before running any agents, we need to initialize a SessionService to manage their conversational memory. We'll use the InMemorySessionService for this notebook, which keeps track of conversations as long as the script is running."
      ],
      "metadata": {
        "id": "0kQPy2ts3085"
      }
    },
    {
      "cell_type": "code",
      "source": [],
      "metadata": {
        "id": "PctmvCgS-gOX"
      },
      "execution_count": null,
      "outputs": []
    },
    {
      "cell_type": "markdown",
      "source": [
        "# 🚀 5. Build the Execution Engine\n",
        "\n",
        "This is our helper function to run queries. It handles the core ADK logic: initializing the Runner, streaming events with run_async, and displaying the final response. We'll reuse this function throughout our series."
      ],
      "metadata": {
        "id": "0lj6WXk33rjA"
      }
    },
    {
      "cell_type": "code",
      "source": [],
      "metadata": {
        "id": "WLnu7H3D30FQ"
      },
      "execution_count": null,
      "outputs": []
    },
    {
      "cell_type": "markdown",
      "source": [
        "# ✨ 6. Run the Agent\n",
        "\n",
        "Finally, we bring everything together. This main function creates a new session for our conversation, defines the user's query, and then calls our run_agent_query helper to execute the agent and get a response."
      ],
      "metadata": {
        "id": "-jRyZ1f-33L6"
      }
    },
    {
      "cell_type": "code",
      "source": [],
      "metadata": {
        "id": "h_mGLfBL-9vr"
      },
      "execution_count": null,
      "outputs": []
    }
  ]
}
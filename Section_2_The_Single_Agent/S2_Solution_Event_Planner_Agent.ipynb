{
  "nbformat": 4,
  "nbformat_minor": 0,
  "metadata": {
    "colab": {
      "provenance": []
    },
    "kernelspec": {
      "name": "python3",
      "display_name": "Python 3"
    },
    "language_info": {
      "name": "python"
    }
  },
  "cells": [
    {
      "cell_type": "markdown",
      "source": [
        "## ⚙️ 1. Setup: Install Libraries and import dependencies\n",
        "\n",
        "First, let's install the specific version of the Google Agent Development Kit (ADK) that this notebook is built with. Pinning the version ensures our code will always work as expected. We will also import all the necessary modules from the ADK and other libraries."
      ],
      "metadata": {
        "id": "KLFsXyoN25Kw"
      }
    },
    {
      "cell_type": "code",
      "execution_count": null,
      "metadata": {
        "id": "3HEsg_-a8Gg3"
      },
      "outputs": [],
      "source": [
        "!pip install google-adk==1.8.0 -q"
      ]
    },
    {
      "cell_type": "markdown",
      "source": [
        "## 🔑 2. Authentication: Configure Your API Key\n",
        "\n",
        "Next, we need to securely provide our Google API key. This code will create a secure input prompt for you to paste your key. It then sets the key as an environment variable, which is the standard way the ADK authenticates your requests."
      ],
      "metadata": {
        "id": "M2yfjSmo2_Mz"
      }
    },
    {
      "cell_type": "code",
      "source": [
        "import os\n",
        "from getpass import getpass\n",
        "\n",
        "# Prompt the user for their API key securely\n",
        "api_key = getpass('Enter your Google API Key: ')\n",
        "\n",
        "# Set the API key as an environment variable for ADK to use\n",
        "os.environ['GOOGLE_API_KEY'] = api_key\n",
        "\n",
        "print(\"✅ API Key configured successfully!\")"
      ],
      "metadata": {
        "id": "IIlQQvQk9gS3"
      },
      "execution_count": null,
      "outputs": []
    },
    {
      "cell_type": "markdown",
      "source": [
        "## 🧞 3. Define the Agent's Blueprint\n",
        "\n",
        "This is where we define our first agent. We create a function that returns an Agent instance. We give it a name, model, a detailed instruction prompt telling it how to behave like an expert event planner, and a tools list containing the built-in Google Search tool."
      ],
      "metadata": {
        "id": "DbTJ043_3lVX"
      }
    },
    {
      "cell_type": "code",
      "source": [
        "from google.adk.agents import Agent\n",
        "from google.adk.tools import google_search\n",
        "\n",
        "def create_event_planner_agent():\n",
        "    \"\"\"Create event planner agent\"\"\"\n",
        "    return Agent(\n",
        "        name=\"event_planner_agent\",\n",
        "        model=\"gemini-2.5-flash\",\n",
        "        description=\"Agent specialized in generating full-day itineraries based on mood, interests, and budget.\",\n",
        "        instruction=\"\"\"\n",
        "        You are an expert event planner. Your goal is to create a comprehensive plan for any event requested by the user using your search tool.\n",
        "\n",
        "        You should:\n",
        "        1.  **Brainstorm Themes:** Suggest 2-3 creative themes for the event.\n",
        "        2.  **Find Venues:** Use your search tool to find 3-5 potential venues that fit the event's requirements.\n",
        "        3.  **Suggest a Schedule:** Propose a high-level schedule or agenda for the event.\n",
        "        4.  **Summarize:** Present the information in a clear, organized format.\n",
        "\n",
        "        \"\"\",\n",
        "        tools=[google_search]\n",
        "    )\n",
        "\n",
        "event_planner_agent = create_event_planner_agent()\n",
        "print(f\"🧞 Agent '{event_planner_agent.name}' is created and ready!\")"
      ],
      "metadata": {
        "id": "3AUlTHTl9pjl"
      },
      "execution_count": null,
      "outputs": []
    },
    {
      "cell_type": "markdown",
      "source": [
        "# 🧠 4. Initialize Session Service\n",
        "\n",
        "Before running any agents, we need to initialize a SessionService to manage their conversational memory. We'll use the InMemorySessionService for this notebook, which keeps track of conversations as long as the script is running."
      ],
      "metadata": {
        "id": "0kQPy2ts3085"
      }
    },
    {
      "cell_type": "code",
      "source": [
        "from google.adk.sessions import InMemorySessionService, Session\n",
        "\n",
        "# --- Initialize our Session Service ---\n",
        "session_service = InMemorySessionService()\n",
        "user_id = \"adk_event_planner_001\""
      ],
      "metadata": {
        "id": "WLnu7H3D30FQ"
      },
      "execution_count": null,
      "outputs": []
    },
    {
      "cell_type": "markdown",
      "source": [
        "# 🚀 5. Build the Execution Engine\n",
        "\n",
        "This is our helper function to run queries. It handles the core ADK logic: initializing the Runner, streaming events with run_async, and displaying the final response. We'll reuse this function throughout our series."
      ],
      "metadata": {
        "id": "0lj6WXk33rjA"
      }
    },
    {
      "cell_type": "code",
      "source": [
        "from google.adk.runners import Runner\n",
        "from google.adk.sessions import Session\n",
        "from google.genai.types import Content, Part\n",
        "from IPython.display import display, Markdown\n",
        "\n",
        "async def run_agent_query(agent: Agent, query: str, session: Session, user_id: str):\n",
        "    \"\"\"Initializes a runner and executes a query for a given agent and session.\"\"\"\n",
        "    print(f\"\\n🚀 Running query for agent: '{agent.name}' in session: '{session.id}'...\")\n",
        "\n",
        "    runner = Runner(\n",
        "        agent=agent,\n",
        "        session_service=session_service,\n",
        "        app_name=agent.name\n",
        "    )\n",
        "\n",
        "    final_response = \"\"\n",
        "    try:\n",
        "        async for event in runner.run_async(\n",
        "            user_id=user_id,\n",
        "            session_id=session.id,\n",
        "            new_message=Content(parts=[Part(text=query)], role=\"user\")\n",
        "        ):\n",
        "            if event.is_final_response():\n",
        "                final_response = event.content.parts[0].text\n",
        "    except Exception as e:\n",
        "        final_response = f\"An error occurred: {e}\"\n",
        "\n",
        "\n",
        "    print(\"\\n\" + \"-\"*50)\n",
        "    print(\"✅ Final Response:\")\n",
        "    display(Markdown(final_response))\n",
        "    print(\"-\"*50 + \"\\n\")\n",
        "\n",
        "    return final_response"
      ],
      "metadata": {
        "id": "PctmvCgS-gOX"
      },
      "execution_count": null,
      "outputs": []
    },
    {
      "cell_type": "markdown",
      "source": [
        "# ✨ 6. Run the Agent\n",
        "\n",
        "Finally, we bring everything together. This main function creates a new session for our conversation, defines the user's query, and then calls our run_agent_query helper to execute the agent and get a response."
      ],
      "metadata": {
        "id": "-jRyZ1f-33L6"
      }
    },
    {
      "cell_type": "code",
      "source": [
        "async def run_event_planner():\n",
        "    # Create a new, single-use session for this query\n",
        "    event_planning_session = await session_service.create_session(\n",
        "        app_name=event_planner_agent.name,\n",
        "        user_id=user_id\n",
        "    )\n",
        "\n",
        "    # Note the new budget constraint in the query!\n",
        "    query = \"Plan a small tech meetup for 30 people in New York on AI/ML. Budget under 5000$\"\n",
        "    print(f\"🗣️ User Query: '{query}'\")\n",
        "\n",
        "    await run_agent_query(event_planner_agent, query, event_planning_session, user_id)\n",
        "\n",
        "await run_event_planner()"
      ],
      "metadata": {
        "id": "h_mGLfBL-9vr"
      },
      "execution_count": null,
      "outputs": []
    }
  ]
}
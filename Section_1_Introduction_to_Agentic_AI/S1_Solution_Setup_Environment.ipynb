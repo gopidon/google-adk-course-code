{
  "nbformat": 4,
  "nbformat_minor": 0,
  "metadata": {
    "colab": {
      "provenance": []
    },
    "kernelspec": {
      "name": "python3",
      "display_name": "Python 3"
    },
    "language_info": {
      "name": "python"
    }
  },
  "cells": [
    {
      "cell_type": "markdown",
      "source": [
        "## ⚙️ 1. Setup: Install Libraries\n",
        "\n",
        "First, let's install the specific version of the Google Agent Development Kit (ADK) that this notebook is built with. Pinning the version ensures our code will always work as expected."
      ],
      "metadata": {
        "id": "_aiLe8_swiU4"
      }
    },
    {
      "cell_type": "code",
      "execution_count": null,
      "metadata": {
        "id": "u6TfQwQiFWsX"
      },
      "outputs": [],
      "source": [
        "!pip install google-adk==1.8.0 -q"
      ]
    },
    {
      "cell_type": "markdown",
      "source": [
        "## 🔑 2. Authentication: Configure Your API Key\n",
        "\n",
        "Next, we need to securely provide our Google API key. This code will create a secure input prompt for you to paste your key. It then sets the key as an environment variable, which is the standard way the ADK authenticates your requests."
      ],
      "metadata": {
        "id": "mvYBzkHWwmug"
      }
    },
    {
      "cell_type": "code",
      "source": [
        "import os\n",
        "from getpass import getpass\n",
        "\n",
        "# Prompt the user for their API key securely\n",
        "api_key = getpass('Enter your Google API Key: ')\n",
        "\n",
        "# Set the API key as an environment variable for ADK to use\n",
        "os.environ['GOOGLE_API_KEY'] = api_key\n",
        "\n",
        "print(\"✅ API Key configured successfully! Let the fun begin.\")"
      ],
      "metadata": {
        "id": "9oZcXZiDFfh8"
      },
      "execution_count": null,
      "outputs": []
    }
  ]
}

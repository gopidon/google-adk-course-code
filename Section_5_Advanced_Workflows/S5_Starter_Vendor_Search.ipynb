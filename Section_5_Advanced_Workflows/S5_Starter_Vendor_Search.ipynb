{
  "nbformat": 4,
  "nbformat_minor": 0,
  "metadata": {
    "colab": {
      "provenance": []
    },
    "kernelspec": {
      "name": "python3",
      "display_name": "Python 3"
    },
    "language_info": {
      "name": "python"
    }
  },
  "cells": [
    {
      "cell_type": "markdown",
      "source": [
        "## ⚙️ 1. Setup: Install Libraries\n",
        "\n",
        "First, let's install the specific version of the Google Agent Development Kit (ADK) that this notebook is built with. Pinning the version ensures our code will always work as expected."
      ],
      "metadata": {
        "id": "yPWv9Kj5Zl6O"
      }
    },
    {
      "cell_type": "code",
      "execution_count": null,
      "metadata": {
        "id": "w_ZnbU2Mwvg_"
      },
      "outputs": [],
      "source": [
        "!pip install google-adk==1.13.0 -q"
      ]
    },
    {
      "cell_type": "markdown",
      "source": [
        "## 🔑 2. Authentication: Configure Your API Key\n",
        "\n",
        "Next, we need to securely provide our Google API key. This code will create a secure input prompt for you to paste your key. It then sets the key as an environment variable, which is the standard way the ADK authenticates your requests."
      ],
      "metadata": {
        "id": "YN3fOHdMZqJM"
      }
    },
    {
      "cell_type": "code",
      "source": [
        "import os\n",
        "from getpass import getpass\n",
        "\n",
        "# Prompt the user for their API key securely\n",
        "api_key = getpass('Enter your Google API Key: ')\n",
        "\n",
        "\n",
        "# Set the API key as an environment variable for ADK to use\n",
        "os.environ['GOOGLE_API_KEY'] = api_key\n",
        "\n",
        "print(\"✅ API Key configured successfully! Let the fun begin.\")"
      ],
      "metadata": {
        "id": "2Znes579xvNd"
      },
      "execution_count": null,
      "outputs": []
    },
    {
      "cell_type": "markdown",
      "source": [
        "## 🛠️ 3. Create a State-Updating Tool\n",
        "\n",
        "To make our workflow more intelligent, we first need a custom tool that can save extracted information into the session's memory. This function takes an event_type and city and saves them to the tool_context.state.\n",
        "\n"
      ],
      "metadata": {
        "id": "OADUjttUaAED"
      }
    },
    {
      "cell_type": "code",
      "source": [],
      "metadata": {
        "id": "AA4YsApuBJrk"
      },
      "execution_count": null,
      "outputs": []
    },
    {
      "cell_type": "markdown",
      "source": [
        "## 📥 4. Create the \"Intake\" Agent\n",
        "\n",
        "This agent acts as the front door to our workflow. Its only job is to take the user's natural language query (e.g., \"Find vendors for a corporate launch party in Austin\"), extract the key parameters, and then call our update_session_state tool to save them."
      ],
      "metadata": {
        "id": "tLU_UJVIaDlv"
      }
    },
    {
      "cell_type": "code",
      "source": [
        "from google.adk.agents import Agent"
      ],
      "metadata": {
        "id": "KS5JztaCBdhJ"
      },
      "execution_count": null,
      "outputs": []
    },
    {
      "cell_type": "markdown",
      "source": [
        "## 🧑‍🍳 5. Create Specialist Agent 1: The Catering Scout\n",
        "\n",
        "This is our first specialist agent for the parallel workflow. Its only job is to search for catering options, using the {{event_type}} and {{city}} variables that were saved to the session state by the intake_agent."
      ],
      "metadata": {
        "id": "g9B709n8aHtq"
      }
    },
    {
      "cell_type": "code",
      "source": [
        "from google.adk.agents import Agent\n",
        "from google.adk.tools import google_search"
      ],
      "metadata": {
        "id": "BjveoSIByBX5"
      },
      "execution_count": null,
      "outputs": []
    },
    {
      "cell_type": "markdown",
      "source": [
        "## 🎤 6. Create Specialist Agent 2: The Entertainment Scout\n",
        "\n",
        "This is our second specialist agent. Its only job is to search for entertainment options. This task is completely independent of finding a caterer, which makes it a perfect candidate for parallel execution."
      ],
      "metadata": {
        "id": "LC2ojixjaOoo"
      }
    },
    {
      "cell_type": "code",
      "source": [],
      "metadata": {
        "id": "rVh4bHSJyG3D"
      },
      "execution_count": null,
      "outputs": []
    },
    {
      "cell_type": "markdown",
      "source": [
        "## ⚡ 7. Build the Parallel Workflow\n",
        "\n",
        "Here, we use ParallelAgent to create a workflow that runs our two scout agents at the same time. The ADK will execute both searches concurrently, which can significantly speed up information gathering."
      ],
      "metadata": {
        "id": "e8voQe9faRoS"
      }
    },
    {
      "cell_type": "code",
      "source": [],
      "metadata": {
        "id": "j_QJwvDkyMHU"
      },
      "execution_count": null,
      "outputs": []
    },
    {
      "cell_type": "markdown",
      "source": [
        "## 🧑‍🎨 8. Create the Synthesizer Agent\n",
        "\n",
        "After the parallel searches are complete, we need an agent to combine the results into a single, coherent response. The vendor_coordinator_agent's job is to take the catering_options and entertainment_options and present them in an organized list."
      ],
      "metadata": {
        "id": "IE-Sm7mCaVGI"
      }
    },
    {
      "cell_type": "code",
      "source": [],
      "metadata": {
        "id": "sKVxDiIdycct"
      },
      "execution_count": null,
      "outputs": []
    },
    {
      "cell_type": "markdown",
      "source": [
        "## ➡️ 9. Assemble the Full \"Fan-Out, Fan-In\" Workflow\n",
        "\n",
        "This is our final, complete workflow. We create a SequentialAgent that orchestrates the entire process: first, the intake_agent parses the query; second, the parallel_vendor_search \"fans out\" to find vendors; and third, the vendor_coordinator_agent \"fans in\" to synthesize the results."
      ],
      "metadata": {
        "id": "HssQ3ZtOaYjh"
      }
    },
    {
      "cell_type": "code",
      "source": [],
      "metadata": {
        "id": "mOkwpd-Myr2O"
      },
      "execution_count": null,
      "outputs": []
    },
    {
      "cell_type": "markdown",
      "source": [
        "## 🚀 10. Build the Execution Engine\n",
        "\n",
        "This is our helper function for running queries, unchanged from previous articles. It handles the core ADK logic of initializing the Runner and streaming events. The state is now managed by our intake_agent, so no state_delta is needed here."
      ],
      "metadata": {
        "id": "ndt80BQ5aeAd"
      }
    },
    {
      "cell_type": "code",
      "source": [
        "from IPython.display import display, Markdown\n",
        "\n",
        "from google.adk.sessions import Session\n",
        "from google.genai.types import Content, Part\n",
        "from google.adk.runners import Runner\n",
        "\n",
        "async def run_agent_query(agent: Agent, query: str, session: Session, user_id: str):\n",
        "    \"\"\"Initializes a runner and executes a query for a given agent and session.\"\"\"\n",
        "    print(f\"\\n🚀 Running query for agent: '{agent.name}' in session: '{session.id}'...\")\n",
        "\n",
        "    runner = Runner(\n",
        "        agent=agent,\n",
        "        session_service=session_service,\n",
        "        app_name=agent.name\n",
        "    )\n",
        "\n",
        "    final_response = \"\"\n",
        "    try:\n",
        "        async for event in runner.run_async(\n",
        "            user_id=user_id,\n",
        "            session_id=session.id,\n",
        "            new_message=Content(parts=[Part(text=query)], role=\"user\")\n",
        "        ):\n",
        "            if event.is_final_response():\n",
        "                final_response = event.content.parts[0].text\n",
        "    except Exception as e:\n",
        "        final_response = f\"An error occurred: {e}\"\n",
        "\n",
        "\n",
        "    print(\"\\n\" + \"-\"*50)\n",
        "    print(\"✅ Final Response:\")\n",
        "    display(Markdown(final_response))\n",
        "    print(\"-\"*50 + \"\\n\")\n",
        "\n",
        "    return final_response"
      ],
      "metadata": {
        "id": "6so8zw4Uy3u4"
      },
      "execution_count": null,
      "outputs": []
    },
    {
      "cell_type": "markdown",
      "source": [
        "## ✨ 11. Initialize Session and Run the Workflow\n",
        "\n",
        "Finally, we set up our InMemorySessionService and our main execution block. We create a session and then call our full_parallel_workflow with a single, natural-language query. The intake agent will handle extracting the parameters automatically."
      ],
      "metadata": {
        "id": "kRUylByeai6R"
      }
    },
    {
      "cell_type": "code",
      "source": [
        "from google.adk.sessions import InMemorySessionService\n",
        "\n",
        "# --- Initialize our Session Service ---\n",
        "# This one service will manage all the different sessions in our notebook.\n",
        "session_service = InMemorySessionService()\n",
        "user_id = \"adk_event_planner_001\""
      ],
      "metadata": {
        "id": "eRatrdQWs5VU"
      },
      "execution_count": null,
      "outputs": []
    },
    {
      "cell_type": "code",
      "source": [
        "async def run_stateful_orchestrator():\n",
        "  session = await session_service.create_session(\n",
        "        app_name=full_parallel_workflow.name,\n",
        "        user_id=user_id\n",
        "  )\n",
        "  query = \"Find vendors for a corporate launch party in Austin.\"\n",
        "  print(f\"User: {query}\\n\")\n",
        "  await run_agent_query(full_parallel_workflow, query, session, user_id)\n",
        "\n",
        "# Run the full system\n",
        "await run_stateful_orchestrator()"
      ],
      "metadata": {
        "id": "TV20PmBVzLAx"
      },
      "execution_count": null,
      "outputs": []
    }
  ]
}
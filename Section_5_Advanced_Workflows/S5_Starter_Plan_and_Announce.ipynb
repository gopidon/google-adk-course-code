{
  "nbformat": 4,
  "nbformat_minor": 0,
  "metadata": {
    "colab": {
      "provenance": []
    },
    "kernelspec": {
      "name": "python3",
      "display_name": "Python 3"
    },
    "language_info": {
      "name": "python"
    }
  },
  "cells": [
    {
      "cell_type": "markdown",
      "source": [
        "## ⚙️ 1. Setup: Install Libraries\n",
        "\n",
        "First, let's install the specific version of the Google Agent Development Kit (ADK) that this notebook is built with. Pinning the version ensures our code will always work as expected."
      ],
      "metadata": {
        "id": "stlVt8HQHP_q"
      }
    },
    {
      "cell_type": "code",
      "execution_count": null,
      "metadata": {
        "id": "k6pL1XZzea41"
      },
      "outputs": [],
      "source": [
        "!pip install google-adk==1.13.0 -q"
      ]
    },
    {
      "cell_type": "markdown",
      "source": [
        "## 🔑 2. Authentication: Configure Your API Key\n",
        "\n",
        "Next, we need to securely provide our Google API key. This code will create a secure input prompt for you to paste your key. It then sets the key as an environment variable, which is the standard way the ADK authenticates your requests."
      ],
      "metadata": {
        "id": "xsrq2LjPHYfn"
      }
    },
    {
      "cell_type": "code",
      "source": [
        "import os\n",
        "from getpass import getpass\n",
        "\n",
        "# Prompt the user for their API key securely\n",
        "api_key = getpass('Enter your Google API Key: ')\n",
        "\n",
        "# Set the API key as an environment variable for ADK to use\n",
        "os.environ['GOOGLE_API_KEY'] = api_key\n",
        "\n",
        "print(\"✅ API Key configured successfully! Let the fun begin.\")"
      ],
      "metadata": {
        "id": "BE6d2ElyRLRM"
      },
      "execution_count": null,
      "outputs": []
    },
    {
      "cell_type": "markdown",
      "source": [
        "## 🛠️ 3. Define Custom Tools\n",
        "\n",
        "Here, we define the custom skills for our guest management agent. These are the same Python functions from our previous article that interact with a dictionary acting as our guest database."
      ],
      "metadata": {
        "id": "XyaZgLeEHeoe"
      }
    },
    {
      "cell_type": "code",
      "source": [
        "import json\n",
        "\n",
        "# Simple dictionary to act as our guest list database.\n",
        "GUEST_DATABASE = {}\n",
        "\n",
        "def add_guest(name: str, email: str) -> str:\n",
        "  \"\"\"Adds a guest's name and email to the event's guest list.\"\"\"\n",
        "  print(f\"Tool executed: Adding guest '{name}' with email '{email}'.\")\n",
        "  GUEST_DATABASE[email] = name\n",
        "  return f\"Successfully added {name} to the guest list.\"\n",
        "\n",
        "def get_guest_list() -> str:\n",
        "  \"\"\"Retrieves the current list of all registered guests for the event.\"\"\"\n",
        "  print(\"Tool executed: Retrieving guest list.\")\n",
        "  if not GUEST_DATABASE:\n",
        "    return \"The guest list is currently empty.\"\n",
        "  return json.dumps(GUEST_DATABASE)"
      ],
      "metadata": {
        "id": "Up4lsOQhRYRh"
      },
      "execution_count": null,
      "outputs": []
    },
    {
      "cell_type": "markdown",
      "source": [
        "## 🧑‍💼 4. Create Specialist Agent 1: The Guest Manager\n",
        "\n",
        "This is our first specialist agent, focused solely on managing the event's guest list using the custom tools we just defined."
      ],
      "metadata": {
        "id": "jYvBxM-bHj00"
      }
    },
    {
      "cell_type": "code",
      "source": [
        "from google.adk.agents import Agent\n",
        "\n",
        "guest_management_agent = Agent(\n",
        "    name=\"guest_management_agent\",\n",
        "    model=\"gemini-2.5-flash\",\n",
        "    description=\"A specialized agent for managing an event's guest list. It can add guests and retrieve the current list.\",\n",
        "    instruction=\"\"\"\n",
        "    You are a guest management assistant. Your only job is to add guests to a list\n",
        "    or retrieve the full list when asked.\n",
        "\n",
        "    - Use the `add_guest` tool to add a new person to the list.\n",
        "    - Use the `get_guest_list` tool to show the current guest list.\n",
        "\n",
        "    You do not perform any other tasks like planning events or searching for information.\n",
        "    Stick strictly to managing the guest list with your tools.\n",
        "    \"\"\",\n",
        "    tools=[add_guest, get_guest_list]\n",
        ")"
      ],
      "metadata": {
        "id": "BxXVZHLSRaxY"
      },
      "execution_count": null,
      "outputs": []
    },
    {
      "cell_type": "markdown",
      "source": [
        "## 🧑‍🎨 5. Create Specialist Agent 2: The Event Planner\n",
        "\n",
        "This is our second specialist, an expert at planning events using Google Search. The key change here is adding output_key=\"event_plan\", which tells the ADK to save this agent's output into a state variable named event_plan."
      ],
      "metadata": {
        "id": "LvJrobbtHrCD"
      }
    },
    {
      "cell_type": "code",
      "source": [
        "from google.adk.tools import google_search\n",
        "\n",
        "def create_event_planner_agent():\n",
        "    \"\"\"Create event planner agent\"\"\"\n",
        "    return Agent(\n",
        "        name=\"event_planner_agent\",\n",
        "        model=\"gemini-2.5-flash\",\n",
        "        description=\"A specialist agent that plans events by searching for themes, venues, and schedules. It can revise the plan based on user feedback.\",\n",
        "        instruction=\"\"\"\n",
        "        You are an expert event planner. Your only goal is to create a comprehensive plan for an event.\n",
        "\n",
        "        Your process is as follows:\n",
        "        1.  **Brainstorm Themes:** Suggest 2-3 creative themes.\n",
        "        2.  **Find Venues:** Use your search tool to find 3-5 potential venues.\n",
        "        3.  **Create an Agenda:** Propose a high-level schedule for the event.\n",
        "        4.  **Summarize Clearly:** Present the final plan in an organized format.\n",
        "\n",
        "        You do not handle guest lists or any other tasks. Stick to planning.\n",
        "        Your final output must be only the structured plan details.\n",
        "        \"\"\",\n",
        "        tools=[google_search],\n",
        "        output_key=\"event_plan\"\n",
        "    )\n",
        "\n",
        "event_planner_agent = create_event_planner_agent()\n",
        "print(f\"🧞 Agent '{event_planner_agent.name}' is created and ready!\")"
      ],
      "metadata": {
        "id": "QjLO8ADxRbR7"
      },
      "execution_count": null,
      "outputs": []
    },
    {
      "cell_type": "markdown",
      "source": [
        "## 📣 6. Create Specialist Agent 3: The Communicator\n",
        "\n",
        "This is our new specialist for this article. Its only job is to draft announcement emails. Its instructions tell it to look for an input state variable named {event_plan}, which will be provided by the event_planner_agent."
      ],
      "metadata": {
        "id": "3QhdUSIiHzgp"
      }
    },
    {
      "cell_type": "code",
      "source": [],
      "metadata": {
        "id": "7DC5FJFSU4VU"
      },
      "execution_count": null,
      "outputs": []
    },
    {
      "cell_type": "markdown",
      "source": [
        "## ➡️ 7. Build the Sequential Workflow\n",
        "\n",
        "Here, we use SequentialAgent to define a multi-step workflow. We chain the event_planner_agent and event_communications_agent together. The ADK will automatically run them in order and pass the event_plan output from the first agent as input to the second."
      ],
      "metadata": {
        "id": "q3N2zl1VH6iH"
      }
    },
    {
      "cell_type": "code",
      "source": [],
      "metadata": {
        "id": "zPc95FR5VZX7"
      },
      "execution_count": null,
      "outputs": []
    },
    {
      "cell_type": "markdown",
      "source": [
        "## 👔 8. Assemble the Full Agent Team\n",
        "\n",
        "Now we upgrade our orchestrator. We use AgentTool to wrap our specialists, including our new event_announcement_agent sequential workflow. The root_orchestrator_agent can now delegate simple tasks or complex, multi-step workflows to its team."
      ],
      "metadata": {
        "id": "RqLcPBmxIB9E"
      }
    },
    {
      "cell_type": "code",
      "source": [
        "# Create Agent Tools"
      ],
      "metadata": {
        "id": "yvIzDyrUWICB"
      },
      "execution_count": null,
      "outputs": []
    },
    {
      "cell_type": "code",
      "source": [
        "# Create Root Orchestrator"
      ],
      "metadata": {
        "id": "-kam54GQRi7V"
      },
      "execution_count": null,
      "outputs": []
    },
    {
      "cell_type": "markdown",
      "source": [
        "# 🚀 9. Build the Execution Engine\n",
        "\n",
        "This is our helper function for running queries, unchanged from our previous articles. It handles the core ADK logic of initializing the Runner and streaming events with run_async."
      ],
      "metadata": {
        "id": "-0hWl6USIPLy"
      }
    },
    {
      "cell_type": "code",
      "source": [
        "from google.adk.runners import Runner\n",
        "from google.adk.sessions import InMemorySessionService, Session\n",
        "from google.genai.types import Content, Part\n",
        "from IPython.display import display, Markdown\n",
        "\n",
        "async def run_agent_query(agent: Agent, query: str, session: Session, user_id: str):\n",
        "    \"\"\"Initializes a runner and executes a query for a given agent and session.\"\"\"\n",
        "    print(f\"\\n🚀 Running query for agent: '{agent.name}' in session: '{session.id}'...\")\n",
        "\n",
        "    runner = Runner(\n",
        "        agent=agent,\n",
        "        session_service=session_service,\n",
        "        app_name=agent.name\n",
        "    )\n",
        "\n",
        "    final_response = \"\"\n",
        "    try:\n",
        "        async for event in runner.run_async(\n",
        "            user_id=user_id,\n",
        "            session_id=session.id,\n",
        "            new_message=Content(parts=[Part(text=query)], role=\"user\")\n",
        "        ):\n",
        "            if event.is_final_response():\n",
        "                final_response = event.content.parts[0].text\n",
        "    except Exception as e:\n",
        "        final_response = f\"An error occurred: {e}\"\n",
        "\n",
        "\n",
        "    print(\"\\n\" + \"-\"*50)\n",
        "    print(\"✅ Final Response:\")\n",
        "    display(Markdown(final_response))\n",
        "    print(\"-\"*50 + \"\\n\")\n",
        "\n",
        "    return final_response"
      ],
      "metadata": {
        "id": "0SN700yXRlrk"
      },
      "execution_count": null,
      "outputs": []
    },
    {
      "cell_type": "markdown",
      "source": [
        "## ✨ 10. Initialize Session Service and Run the Workflow\n",
        "\n",
        "Finally, we set up our InMemorySessionService and define our main execution block. This code will create a single session for the orchestrator and then send it a series of queries to demonstrate how it can route to both the simple guest manager and the complex sequential announcement workflow."
      ],
      "metadata": {
        "id": "ostiFsZ5IUe_"
      }
    },
    {
      "cell_type": "code",
      "source": [
        "# --- Initialize our Session Service ---\n",
        "# This one service will manage all the different sessions in our notebook.\n",
        "session_service = InMemorySessionService()\n",
        "user_id = \"adk_event_planner_001\""
      ],
      "metadata": {
        "id": "QSnCeVi_IYGx"
      },
      "execution_count": null,
      "outputs": []
    },
    {
      "cell_type": "code",
      "source": [
        "async def run_stateful_orchestrator():\n",
        "\n",
        "  session = await session_service.create_session(\n",
        "        app_name=root_orchestrator_agent.name,\n",
        "        user_id=user_id\n",
        "  )\n",
        "\n",
        "  query1 = \"Plan a small tech meetup for 30 people in San Francisco.\"\n",
        "  print(f\"User: {query1}\\n\")\n",
        "  await run_agent_query(root_orchestrator_agent, query1, session, user_id)\n",
        "\n",
        "  query2 = \"Add 'Tim Apple' with email 'tim.a@example.com' to the guest list.\"\n",
        "  print(f\"User: {query2}\\n\")\n",
        "  await run_agent_query(root_orchestrator_agent, query2, session, user_id)\n",
        "\n",
        "  query3 = \"Now show me the guest list.\"\n",
        "  await run_agent_query(root_orchestrator_agent, query3, session, user_id)\n",
        "\n",
        "# Run the full system\n",
        "await run_stateful_orchestrator()"
      ],
      "metadata": {
        "id": "HaXpEDq9RrC3"
      },
      "execution_count": null,
      "outputs": []
    }
  ]
}
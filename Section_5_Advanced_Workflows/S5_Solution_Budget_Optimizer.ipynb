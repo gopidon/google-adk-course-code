{
  "nbformat": 4,
  "nbformat_minor": 0,
  "metadata": {
    "colab": {
      "provenance": []
    },
    "kernelspec": {
      "name": "python3",
      "display_name": "Python 3"
    },
    "language_info": {
      "name": "python"
    }
  },
  "cells": [
    {
      "cell_type": "markdown",
      "source": [
        "## ⚙️ 1. Setup: Install Libraries\n",
        "\n",
        "First, let's install the specific version of the Google Agent Development Kit (ADK) that this notebook is built with. Pinning the version ensures our code will always work as expected."
      ],
      "metadata": {
        "id": "r7LvPsm_XYHw"
      }
    },
    {
      "cell_type": "code",
      "execution_count": null,
      "metadata": {
        "id": "3s0J-_NTdGSe"
      },
      "outputs": [],
      "source": [
        "!pip install google-adk==1.13.0 -q"
      ]
    },
    {
      "cell_type": "markdown",
      "source": [
        "## 🔑 2. Authentication: Configure Your API Key\n",
        "\n",
        "Next, we need to securely provide our Google API key. This code will create a secure input prompt for you to paste your key. It then sets the key as an environment variable, which is the standard way the ADK authenticates your requests."
      ],
      "metadata": {
        "id": "1GOyh4WOXdYo"
      }
    },
    {
      "cell_type": "code",
      "source": [
        "import os\n",
        "from getpass import getpass\n",
        "\n",
        "# Prompt the user for their API key securely\n",
        "api_key = getpass('Enter your Google API Key: ')\n",
        "\n",
        "# Set the API key as an environment variable for ADK to use\n",
        "os.environ['GOOGLE_API_KEY'] = api_key\n",
        "\n",
        "print(\"✅ API Key configured successfully! Let the fun begin.\")"
      ],
      "metadata": {
        "id": "-7nwDiOKdNqM"
      },
      "execution_count": null,
      "outputs": []
    },
    {
      "cell_type": "markdown",
      "source": [
        "## 🛠️ 3. Define Workflow Tools\n",
        "\n",
        "For our iterative workflow, we need two key functions: sum_costs for our accountant agent to do math, and exit_loop for our refiner agent to signal when the goal is met and the loop should terminate."
      ],
      "metadata": {
        "id": "a2IIjvkNYT4e"
      }
    },
    {
      "cell_type": "code",
      "source": [
        "import json\n",
        "from google.adk.tools import ToolContext\n",
        "\n",
        "#A tool to sum costs\n",
        "def sum_costs(costs: list[float]) -> float:\n",
        "  \"\"\"Calculates the sum of a list of numbers.\"\"\"\n",
        "  print(f\"  [Tool Call] sum_costs on the list: {costs}\")\n",
        "  return sum(costs)\n",
        "\n",
        "# A tool to signal that the loop should terminate.\n",
        "def exit_loop(tool_context: ToolContext):\n",
        "  \"\"\"Call this function ONLY when the plan is approved and within budget.\"\"\"\n",
        "  print(f\"  [Tool Call] Budget approved. Terminating loop: {json.dumps(tool_context.state.to_dict())}\")\n",
        "  tool_context.actions.escalate = True\n",
        "  return {\"result\" : \"Budget approved. Finalizing plan.\"}"
      ],
      "metadata": {
        "id": "iCk-ly2egnMC"
      },
      "execution_count": null,
      "outputs": []
    },
    {
      "cell_type": "markdown",
      "source": [
        "## 4. Create Tool Wrappers\n",
        "\n",
        "To ensure our cost_cutter_agent can reliably use both the built-in Google Search and our custom exit_loop function, we'll wrap google search agent as a tool agent"
      ],
      "metadata": {
        "id": "k4IPsD7MYd3l"
      }
    },
    {
      "cell_type": "code",
      "source": [
        "from google.adk.agents import Agent\n",
        "from google.adk.tools import google_search\n",
        "from google.adk.tools.agent_tool import AgentTool\n",
        "\n",
        "google_search_agent = Agent(\n",
        "    name=\"Google_Search_agent\",\n",
        "    model=\"gemini-2.5-flash\",\n",
        "    instruction=\"You are just a wrapper for the Google Search tool.\",\n",
        "    tools=[google_search]\n",
        ")\n",
        "\n",
        "google_search_tool = AgentTool(agent=google_search_agent)"
      ],
      "metadata": {
        "id": "9VUjbbB5VQ08"
      },
      "execution_count": null,
      "outputs": []
    },
    {
      "cell_type": "markdown",
      "source": [
        "## 📝 5. Create the Proposer, Accountant, Cost Cutter and Plan Retriever Agents\n",
        "\n",
        "###Proposer:\n",
        "This is the first agent in our workflow. It runs only once to propose an initial plan based on the user's topic. Its output is stored in the current_plan variable.\n",
        "\n",
        "###Accountant\n",
        "This agent that runs at the beginning of each loop. It takes the current_plan, checks it against the budget using its sum_costs tool, and outputs a critique.\n",
        "\n",
        "###Cost Cutter\n",
        "This agent is the second step in our loop. It takes the critique as input. If the budget is not met, it uses its Google Search Tool to find a cheaper option. If the budget is met, it calls the exit_loop tool to terminate the process.\n",
        "\n",
        "###Plan Retriever\n",
        "This agent's only job is to run after the loop has successfully finished. It takes the final current_plan from the session state and presents it clearly to the user."
      ],
      "metadata": {
        "id": "kEQmVUjaZHGq"
      }
    },
    {
      "cell_type": "code",
      "source": [
        "COMPLETION_PHRASE = \"The plan is within the budget.\"\n",
        "\n",
        "# Agent 1: Proposes the initial, expensive plan (runs once).\n",
        "spending_proposer_agent = Agent(\n",
        "    name=\"spending_proposer_agent\",\n",
        "    model=\"gemini-2.5-flash\",\n",
        "    tools=[google_search],\n",
        "    instruction=\"\"\"\n",
        "    You are a luxury event planner. For a {{topic}}, find a high-end venue and a gourmet catering service.\n",
        "\n",
        "    Output a JSON object with items and their estimated costs, like:\n",
        "    {\"venue\": {\"name\": \"The Ritz London\", \"cost\": 10000}, \"catering\": {\"name\": \"Gourmet Chefs Inc.\", \"cost\": 5000}}\n",
        "    \"\"\",\n",
        "    output_key=\"current_plan\",\n",
        "    #after_agent_callback = log_output_after_agent\n",
        ")\n",
        "\n",
        "# Agent 2 (in loop): The \"Accountant\" that critiques the plan.\n",
        "COMPLETION_PHRASE = \"The plan is within the budget.\"\n",
        "\n",
        "accountant_agent = Agent(\n",
        "    name=\"accountant_agent\",\n",
        "    model=\"gemini-2.5-flash\",\n",
        "    tools=[sum_costs],\n",
        "    instruction=\"\"\"\n",
        "    You are a meticulous accountant. Your budget is {{budget}}.\n",
        "    The current plan is: {{current_plan}}\n",
        "\n",
        "    Extract the costs from the plan and use the `sum_costs` tool to get the total.\n",
        "    - IF the total cost is > {{budget}}, output a critique like: \"This plan is over budget by [amount]. Find a cheaper [item].\"\n",
        "    - ELSE, respond with the exact phrase: '{COMPLETION_PHRASE}'\n",
        "    \"\"\",\n",
        "    output_key=\"critique\"\n",
        ")\n",
        "\n",
        "# Agent 3 (in loop): The \"Cost Cutter\" that refines the plan.\n",
        "cost_cutter_agent = Agent(\n",
        "    name=\"cost_cutter_agent\",\n",
        "    model=\"gemini-2.5-flash\",\n",
        "    tools=[google_search_tool, exit_loop],\n",
        "    instruction=\"\"\"\n",
        "    You are a cost-cutting expert. You must refine a plan based on a critique.\n",
        "    The critique is: {{critique}}\n",
        "    The current plan is: {{current_plan}}\n",
        "\n",
        "    - IF the critique is '{COMPLETION_PHRASE}', you MUST call the `exit_loop` tool with no arguments.\n",
        "    - ELSE, read the critique to identify the overpriced item. Use your search tool to find a cheaper alternative for that item.\n",
        "      Output a new JSON object with the updated plan.\n",
        "    \"\"\",\n",
        "    output_key=\"current_plan\"  # This overwrites the plan for the next loop iteration.\n",
        ")\n",
        "\n",
        "#Agent 4: Runs once after the loop finishes to present the final plan.\n",
        "plan_retriever_agent = Agent(\n",
        "    name=\"plan_retriever_agent\",\n",
        "    model=\"gemini-2.5-flash\",\n",
        "    instruction=\"\"\"\n",
        "    You are a plan finalizer. Your only job is to present the final, approved plan.\n",
        "    The plan is available in the context variable `{{current_plan}}`.\n",
        "\n",
        "    Your output must be the content of the final plan presented in a clear and easy-to-read format\".\n",
        "    \"\"\",\n",
        "    tools=[]\n",
        ")"
      ],
      "metadata": {
        "id": "dOvdpt-el9Wf"
      },
      "execution_count": null,
      "outputs": []
    },
    {
      "cell_type": "markdown",
      "source": [
        "## 🔄 6. Assemble the Loop and Sequential Workflows\n",
        "\n",
        "Now we assemble our agent team. The LoopAgent is created to handle the critique-and-refine cycle. Then, a top-level SequentialAgent puts the entire \"propose -> loop -> present\" workflow together."
      ],
      "metadata": {
        "id": "pRUuEwfzbdxW"
      }
    },
    {
      "cell_type": "code",
      "source": [
        "from google.adk.agents import SequentialAgent, LoopAgent\n",
        "\n",
        "# The loop that will critique and refine the budget.\n",
        "budget_refinement_loop = LoopAgent(\n",
        "    name=\"budget_refinement_loop\",\n",
        "    sub_agents=[accountant_agent, cost_cutter_agent],\n",
        "    max_iterations=3,\n",
        ")\n",
        "\n",
        "# The main workflow agent.\n",
        "budget_optimizer_workflow = SequentialAgent(\n",
        "    name=\"budget_optimizer_workflow\",\n",
        "    sub_agents=[spending_proposer_agent, budget_refinement_loop, plan_retriever_agent]\n",
        ")\n",
        "\n"
      ],
      "metadata": {
        "id": "IsQxf7-rmMAL"
      },
      "execution_count": null,
      "outputs": []
    },
    {
      "cell_type": "markdown",
      "source": [
        "## 🚀 7. Build the Execution Engine\n",
        "\n",
        "This is our helper function for running queries, unchanged from previous articles. It handles the core ADK logic of initializing the Runner and streaming events."
      ],
      "metadata": {
        "id": "T6JLkOefbkoj"
      }
    },
    {
      "cell_type": "code",
      "source": [
        "from IPython.display import display, Markdown\n",
        "\n",
        "from google.adk.sessions import Session\n",
        "from google.genai.types import Content, Part\n",
        "from google.adk.runners import Runner\n",
        "\n",
        "async def run_agent_query(agent: Agent, query: str, topic: str, budget: str, session: Session, user_id: str):\n",
        "    \"\"\"Initializes a runner and executes a query for a given agent and session.\"\"\"\n",
        "    print(f\"\\n🚀 Running query for agent: '{agent.name}' in session: '{session.id}'...\")\n",
        "\n",
        "    runner = Runner(\n",
        "        agent=agent,\n",
        "        session_service=session_service,\n",
        "        app_name=agent.name\n",
        "    )\n",
        "\n",
        "    final_response = \"\"\n",
        "    try:\n",
        "        async for event in runner.run_async(\n",
        "            user_id=user_id,\n",
        "            session_id=session.id,\n",
        "            new_message=Content(parts=[Part(text=query)], role=\"user\"),\n",
        "            state_delta={'budget': budget, 'topic': topic} # Pass budget and topic to context\n",
        "        ):\n",
        "            if event.is_final_response():\n",
        "                final_response = event.content.parts[0].text\n",
        "    except Exception as e:\n",
        "        final_response = f\"An error occurred: {e}\"\n",
        "\n",
        "    print(\"\\n\" + \"-\"*50)\n",
        "    print(\"✅ Final Response:\")\n",
        "    display(Markdown(final_response))\n",
        "    print(\"-\"*50 + \"\\n\")\n",
        "\n",
        "    return final_response\n"
      ],
      "metadata": {
        "id": "NFuMs4plCHFM"
      },
      "execution_count": null,
      "outputs": []
    },
    {
      "cell_type": "markdown",
      "source": [
        "## ✨ 8. Initialize Session and Run the Workflow\n",
        "\n",
        "Finally, we set up our InMemorySessionService and define our main execution block. We set the initial budget and topic in the session state, then kick off the entire autonomous workflow with a single call."
      ],
      "metadata": {
        "id": "jQEiJ4tuboah"
      }
    },
    {
      "cell_type": "code",
      "source": [
        "from google.adk.sessions import InMemorySessionService\n",
        "\n",
        "\n",
        "# --- Initialize our Session Service ---\n",
        "# This one service will manage all the different sessions in our notebook.\n",
        "session_service = InMemorySessionService()\n",
        "user_id = \"adk_event_planner_001\""
      ],
      "metadata": {
        "id": "q53sSveOUG5T"
      },
      "execution_count": null,
      "outputs": []
    },
    {
      "cell_type": "code",
      "source": [
        "async def run_stateful_orchestrator():\n",
        "\n",
        "  session = await session_service.create_session(\n",
        "        app_name=budget_optimizer_workflow.name,\n",
        "        user_id=user_id\n",
        "  )\n",
        "\n",
        "  budget=15000\n",
        "  topic=\"50 person AI event in New York\"\n",
        "  query = f\"Find a plan for {topic}\"\n",
        "\n",
        "  print(f\"User: {query}\\n\")\n",
        "  await run_agent_query(budget_optimizer_workflow, query, topic, budget, session, user_id)\n",
        "\n",
        "# Run the full system\n",
        "await run_stateful_orchestrator()"
      ],
      "metadata": {
        "id": "dH_rKcMcCbTp"
      },
      "execution_count": null,
      "outputs": []
    }
  ]
}
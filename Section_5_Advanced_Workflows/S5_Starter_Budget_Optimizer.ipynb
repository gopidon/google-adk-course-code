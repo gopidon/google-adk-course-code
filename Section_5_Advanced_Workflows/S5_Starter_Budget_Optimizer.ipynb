{
  "nbformat": 4,
  "nbformat_minor": 0,
  "metadata": {
    "colab": {
      "provenance": []
    },
    "kernelspec": {
      "name": "python3",
      "display_name": "Python 3"
    },
    "language_info": {
      "name": "python"
    }
  },
  "cells": [
    {
      "cell_type": "markdown",
      "source": [
        "## ⚙️ 1. Setup: Install Libraries\n",
        "\n",
        "First, let's install the specific version of the Google Agent Development Kit (ADK) that this notebook is built with. Pinning the version ensures our code will always work as expected."
      ],
      "metadata": {
        "id": "r7LvPsm_XYHw"
      }
    },
    {
      "cell_type": "code",
      "execution_count": null,
      "metadata": {
        "id": "3s0J-_NTdGSe"
      },
      "outputs": [],
      "source": [
        "!pip install google-adk==1.8.0 -q"
      ]
    },
    {
      "cell_type": "markdown",
      "source": [
        "## 🔑 2. Authentication: Configure Your API Key\n",
        "\n",
        "Next, we need to securely provide our Google API key. This code will create a secure input prompt for you to paste your key. It then sets the key as an environment variable, which is the standard way the ADK authenticates your requests."
      ],
      "metadata": {
        "id": "1GOyh4WOXdYo"
      }
    },
    {
      "cell_type": "code",
      "source": [
        "import os\n",
        "from getpass import getpass\n",
        "\n",
        "# Prompt the user for their API key securely\n",
        "api_key = getpass('Enter your Google API Key: ')\n",
        "\n",
        "# Set the API key as an environment variable for ADK to use\n",
        "os.environ['GOOGLE_API_KEY'] = api_key\n",
        "\n",
        "print(\"✅ API Key configured successfully! Let the fun begin.\")"
      ],
      "metadata": {
        "id": "-7nwDiOKdNqM"
      },
      "execution_count": null,
      "outputs": []
    },
    {
      "cell_type": "markdown",
      "source": [
        "## 🛠️ 3. Define Workflow Tools\n",
        "\n",
        "For our iterative workflow, we need two key functions: sum_costs for our accountant agent to do math, and exit_loop for our refiner agent to signal when the goal is met and the loop should terminate."
      ],
      "metadata": {
        "id": "a2IIjvkNYT4e"
      }
    },
    {
      "cell_type": "code",
      "source": [],
      "metadata": {
        "id": "iCk-ly2egnMC"
      },
      "execution_count": null,
      "outputs": []
    },
    {
      "cell_type": "markdown",
      "source": [
        "## 4. Create Tool Wrappers\n",
        "\n",
        "To ensure our cost_cutter_agent can reliably use both the built-in Google Search and our custom exit_loop function, we'll wrap google search agent as a tool agent"
      ],
      "metadata": {
        "id": "k4IPsD7MYd3l"
      }
    },
    {
      "cell_type": "code",
      "source": [
        "from google.adk.agents import Agent\n",
        "from google.adk.tools import google_search\n",
        "from google.adk.tools.agent_tool import AgentTool\n",
        "\n",
        "google_search_agent = Agent(\n",
        "    name=\"Google_Search_agent\",\n",
        "    model=\"gemini-2.5-flash\",\n",
        "    instruction=\"You are just a wrapper for the Google Search tool.\",\n",
        "    tools=[google_search]\n",
        ")\n",
        "\n",
        "google_search_tool = AgentTool(agent=google_search_agent)"
      ],
      "metadata": {
        "id": "9VUjbbB5VQ08"
      },
      "execution_count": null,
      "outputs": []
    },
    {
      "cell_type": "markdown",
      "source": [
        "## 📝 5. Create the Proposer, Accountant, Cost Cutter and Plan Retriever Agents\n",
        "\n",
        "###Proposer:\n",
        "This is the first agent in our workflow. It runs only once to propose an initial plan based on the user's topic. Its output is stored in the current_plan variable.\n",
        "\n",
        "###Accountant\n",
        "This agent that runs at the beginning of each loop. It takes the current_plan, checks it against the budget using its sum_costs tool, and outputs a critique.\n",
        "\n",
        "###Cost Cutter\n",
        "This agent is the second step in our loop. It takes the critique as input. If the budget is not met, it uses its Google Search Tool to find a cheaper option. If the budget is met, it calls the exit_loop tool to terminate the process.\n",
        "\n",
        "###Plan Retriever\n",
        "This agent's only job is to run after the loop has successfully finished. It takes the final current_plan from the session state and presents it clearly to the user."
      ],
      "metadata": {
        "id": "kEQmVUjaZHGq"
      }
    },
    {
      "cell_type": "code",
      "source": [],
      "metadata": {
        "id": "dOvdpt-el9Wf"
      },
      "execution_count": null,
      "outputs": []
    },
    {
      "cell_type": "markdown",
      "source": [
        "## 🔄 6. Assemble the Loop and Sequential Workflows\n",
        "\n",
        "Now we assemble our agent team. The LoopAgent is created to handle the critique-and-refine cycle. Then, a top-level SequentialAgent puts the entire \"propose -> loop -> present\" workflow together."
      ],
      "metadata": {
        "id": "pRUuEwfzbdxW"
      }
    },
    {
      "cell_type": "code",
      "source": [],
      "metadata": {
        "id": "IsQxf7-rmMAL"
      },
      "execution_count": null,
      "outputs": []
    },
    {
      "cell_type": "markdown",
      "source": [
        "## 🚀 7. Build the Execution Engine\n",
        "\n",
        "This is our helper function for running queries, unchanged from previous articles. It handles the core ADK logic of initializing the Runner and streaming events."
      ],
      "metadata": {
        "id": "T6JLkOefbkoj"
      }
    },
    {
      "cell_type": "code",
      "source": [
        "from IPython.display import display, Markdown\n",
        "\n",
        "from google.adk.sessions import Session\n",
        "from google.genai.types import Content, Part\n",
        "from google.adk.runners import Runner\n",
        "\n",
        "async def run_agent_query(agent: Agent, query: str, topic: str, budget: str, session: Session, user_id: str):\n",
        "    \"\"\"Initializes a runner and executes a query for a given agent and session.\"\"\"\n",
        "    print(f\"\\n🚀 Running query for agent: '{agent.name}' in session: '{session.id}'...\")\n",
        "\n",
        "    runner = Runner(\n",
        "        agent=agent,\n",
        "        session_service=session_service,\n",
        "        app_name=agent.name\n",
        "    )\n",
        "\n",
        "    final_response = \"\"\n",
        "    try:\n",
        "        async for event in runner.run_async(\n",
        "            user_id=user_id,\n",
        "            session_id=session.id,\n",
        "            new_message=Content(parts=[Part(text=query)], role=\"user\"),\n",
        "            state_delta={'budget': budget, 'topic': topic} # Pass budget and topic to context\n",
        "        ):\n",
        "            if event.is_final_response():\n",
        "                final_response = event.content.parts[0].text\n",
        "    except Exception as e:\n",
        "        final_response = f\"An error occurred: {e}\"\n",
        "\n",
        "    print(\"\\n\" + \"-\"*50)\n",
        "    print(\"✅ Final Response:\")\n",
        "    display(Markdown(final_response))\n",
        "    print(\"-\"*50 + \"\\n\")\n",
        "\n",
        "    return final_response\n"
      ],
      "metadata": {
        "id": "NFuMs4plCHFM"
      },
      "execution_count": null,
      "outputs": []
    },
    {
      "cell_type": "markdown",
      "source": [
        "## ✨ 8. Initialize Session and Run the Workflow\n",
        "\n",
        "Finally, we set up our InMemorySessionService and define our main execution block. We set the initial budget and topic in the session state, then kick off the entire autonomous workflow with a single call."
      ],
      "metadata": {
        "id": "jQEiJ4tuboah"
      }
    },
    {
      "cell_type": "code",
      "source": [
        "from google.adk.sessions import InMemorySessionService\n",
        "\n",
        "\n",
        "# --- Initialize our Session Service ---\n",
        "# This one service will manage all the different sessions in our notebook.\n",
        "session_service = InMemorySessionService()\n",
        "user_id = \"adk_event_planner_001\""
      ],
      "metadata": {
        "id": "q53sSveOUG5T"
      },
      "execution_count": null,
      "outputs": []
    },
    {
      "cell_type": "code",
      "source": [
        "async def run_stateful_orchestrator():\n",
        "\n",
        "  session = await session_service.create_session(\n",
        "        app_name=budget_optimizer_workflow.name,\n",
        "        user_id=user_id\n",
        "  )\n",
        "\n",
        "  budget=15000\n",
        "  topic=\"50 person AI event in New York\"\n",
        "  query = f\"Find a plan for {topic}\"\n",
        "\n",
        "  print(f\"User: {query}\\n\")\n",
        "  await run_agent_query(budget_optimizer_workflow, query, topic, budget, session, user_id)\n",
        "\n",
        "# Run the full system\n",
        "await run_stateful_orchestrator()"
      ],
      "metadata": {
        "id": "dH_rKcMcCbTp"
      },
      "execution_count": null,
      "outputs": []
    }
  ]
}
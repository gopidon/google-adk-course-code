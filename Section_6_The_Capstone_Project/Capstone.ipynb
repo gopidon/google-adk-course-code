{
  "nbformat": 4,
  "nbformat_minor": 0,
  "metadata": {
    "colab": {
      "provenance": []
    },
    "kernelspec": {
      "name": "python3",
      "display_name": "Python 3"
    },
    "language_info": {
      "name": "python"
    }
  },
  "cells": [
    {
      "cell_type": "markdown",
      "source": [
        "## ⚙️ 1. Setup: Install Libraries\n",
        "\n",
        "First, let's install the specific version of the Google Agent Development Kit (ADK) that this notebook is built with. Pinning the version ensures our code will always work as expected."
      ],
      "metadata": {
        "id": "_aiLe8_swiU4"
      }
    },
    {
      "cell_type": "code",
      "execution_count": null,
      "metadata": {
        "id": "u6TfQwQiFWsX"
      },
      "outputs": [],
      "source": [
        "!pip install google-adk==1.8.0 -q"
      ]
    },
    {
      "cell_type": "markdown",
      "source": [
        "## 🔑 2. Authentication: Configure Your API Key\n",
        "\n",
        "Next, we need to securely provide our Google API key. This code will create a secure input prompt for you to paste your key. It then sets the key as an environment variable, which is the standard way the ADK authenticates your requests."
      ],
      "metadata": {
        "id": "mvYBzkHWwmug"
      }
    },
    {
      "cell_type": "code",
      "source": [
        "import os\n",
        "from getpass import getpass\n",
        "\n",
        "# Prompt the user for their API key securely\n",
        "api_key = getpass('Enter your Google API Key: ')\n",
        "\n",
        "# Set the API key as an environment variable for ADK to use\n",
        "os.environ['GOOGLE_API_KEY'] = api_key\n",
        "\n",
        "print(\"✅ API Key configured successfully! Let the fun begin.\")"
      ],
      "metadata": {
        "id": "9oZcXZiDFfh8"
      },
      "execution_count": null,
      "outputs": []
    },
    {
      "cell_type": "markdown",
      "source": [
        "## 🛠️ 3. Define All Custom Tools\n",
        "\n",
        "Here, we'll define all the custom Python functions that our various specialist agents will need throughout the entire workflow."
      ],
      "metadata": {
        "id": "5sIvlFawwsgI"
      }
    },
    {
      "cell_type": "code",
      "source": [
        "import json\n",
        "from google.adk.tools import ToolContext\n",
        "\n",
        "# --- Data Stores ---\n",
        "GUEST_DATABASE = {}\n",
        "\n",
        "# --- Tool Functions ---\n",
        "def add_guest(name: str, email: str) -> str:\n",
        "  \"\"\"Adds a guest's name and email to the event's guest list.\"\"\"\n",
        "  print(f\"  [Tool Call] Adding guest '{name}' with email '{email}'.\")\n",
        "  GUEST_DATABASE[email] = name\n",
        "  return f\"Successfully added {name} to the guest list.\"\n",
        "\n",
        "def get_guest_list(tool_context: ToolContext) -> str:\n",
        "  \"\"\"Retrieves the current list of all registered guests for the event.\"\"\"\n",
        "  print(\"  [Tool Call] Retrieving guest list.\")\n",
        "  if not GUEST_DATABASE:\n",
        "    return \"The guest list is currently empty.\"\n",
        "  tool_context.state[\"guest_list\"] = GUEST_DATABASE\n",
        "  return json.dumps(GUEST_DATABASE)\n",
        "\n",
        "def sum_costs(costs: list[float]) -> float:\n",
        "  \"\"\"Calculates the sum of a list of numbers.\"\"\"\n",
        "  return sum(costs)\n",
        "\n",
        "COMPLETION_PHRASE = \"The plan is within the budget.\"\n",
        "def exit_loop(tool_context: ToolContext):\n",
        "  \"\"\"Call this function ONLY when the plan is approved and within budget.\"\"\"\n",
        "  print(\"  [Tool Call] Budget approved. Terminating loop.\")\n",
        "  tool_context.actions.escalate = True\n",
        "  return \"Budget approved. Finalizing plan.\"\n",
        "\n",
        "def update_session_state(\n",
        "    tool_context: ToolContext, event_type: str, city: str, budget: int\n",
        ") -> str:\n",
        "  \"\"\"Saves the extracted event parameters to the session state.\"\"\"\n",
        "  tool_context.state['event_type'] = event_type\n",
        "  tool_context.state['city'] = city\n",
        "  tool_context.state['budget'] = budget\n",
        "  return \"Session state has been updated with event parameters.\"\n",
        "\n",
        "def send_mock_email(tool_context: ToolContext) -> str:\n",
        "    \"\"\"\n",
        "    Simulates sending an email. It retrieves the structured EmailDraft object\n",
        "    from the session state and formats a mock email.\n",
        "    \"\"\"\n",
        "    print(\"  [Tool Call] Preparing to send mock emails...\")\n",
        "\n",
        "    guest_list = GUEST_DATABASE\n",
        "    # Retrieve the structured EmailDraft object directly from the state\n",
        "    email_draft = tool_context.state.get(\"email_draft\")\n",
        "    # print(f\"[Tool call...] {email_draft}\")\n",
        "    # print(f\"Type: {type(email_draft)}\")\n",
        "\n",
        "    if not guest_list:\n",
        "        return \"There are no guests on the list to email.\"\n",
        "\n",
        "    print(\"\\n--- SIMULATING EMAIL SEND ---\")\n",
        "    for email, name in guest_list.items():\n",
        "        print(f\"To: {name} <{email}>\")\n",
        "        print(f\"Subject: {email_draft['subject']}\")\n",
        "        print(\"\\nBody:\\n\" + email_draft[\"body\"])\n",
        "        print(\"-----------------------------\")\n",
        "\n",
        "    return f\"Successfully prepared simulated emails for {len(guest_list)} guests.\""
      ],
      "metadata": {
        "id": "b3eI9l8iFi1_"
      },
      "execution_count": null,
      "outputs": []
    },
    {
      "cell_type": "markdown",
      "source": [],
      "metadata": {
        "id": "-sM-J32gxZZd"
      }
    },
    {
      "cell_type": "markdown",
      "source": [
        "## 4. Create Tool Wrappers for Compatibility\n",
        "\n",
        "To ensure our agents can reliably use both built-in tools and custom functions together, we'll wrap Google Search as a \"tool agent.\""
      ],
      "metadata": {
        "id": "eTsER5jOxLH0"
      }
    },
    {
      "cell_type": "code",
      "source": [
        "from google.adk.agents import Agent\n",
        "from google.adk.tools import google_search\n",
        "from google.adk.tools.agent_tool import AgentTool\n",
        "\n",
        "google_search_agent = Agent(\n",
        "    name=\"Google_Search_Agent\",\n",
        "    model=\"gemini-2.5-flash\",\n",
        "    instruction=\"You are just a wrapper for the Google Search tool.\",\n",
        "    tools=[google_search]\n",
        ")\n",
        "\n",
        "google_search_tool = AgentTool(agent=google_search_agent)"
      ],
      "metadata": {
        "id": "lwgohe8VxH3j"
      },
      "execution_count": null,
      "outputs": []
    },
    {
      "cell_type": "markdown",
      "source": [
        "## 🧑‍🔬 5. Define All Specialist Agents\n",
        "\n",
        "Now we define our complete team of specialist agents, ensuring they all use the consistent event_type variable."
      ],
      "metadata": {
        "id": "JkQuR-NTyUHn"
      }
    },
    {
      "cell_type": "code",
      "source": [
        "from google.adk.agents import SequentialAgent, LoopAgent, ParallelAgent\n",
        "\n",
        "# --- Intake Agent ---\n",
        "intake_agent = Agent(\n",
        "    name=\"intake_agent\",\n",
        "    model=\"gemini-2.5-flash\",\n",
        "    instruction=\"From the user's query, identify the event type (e.g., 'AI tech meetup'), the city, and the budget. Then, you MUST call the `update_session_state` tool.\",\n",
        "    tools=[update_session_state]\n",
        ")\n",
        "\n",
        "# --- Guest Management Agent ---\n",
        "guest_management_agent = Agent(\n",
        "    name=\"guest_management_agent\",\n",
        "    model=\"gemini-2.5-flash\",\n",
        "    instruction=\"You are a guest management assistant. Use the `add_guest` and `get_guest_list` tools.\",\n",
        "    tools=[add_guest, get_guest_list]\n",
        ")\n",
        "\n",
        "# --- Parallel Logistics Scouting Team ---\n",
        "venue_scout_agent = Agent(\n",
        "    name=\"venue_scout_agent\",\n",
        "    model=\"gemini-2.5-flash\",\n",
        "    instruction=\"\"\"\n",
        "    You are a venue scout. Find 3 potential venues for a {{event_type}} in {{city}}. For each venue, find an estimated rental cost.\n",
        "    Output ONLY a JSON object with your findings, like this: {\"venues\": [{\"name\": \"Venue A\", \"estimated_cost\": 5000}]}\n",
        "    \"\"\",\n",
        "    tools=[google_search],\n",
        "    output_key=\"venue_options\"\n",
        ")\n",
        "catering_scout_agent = Agent(\n",
        "    name=\"catering_scout_agent\",\n",
        "    model=\"gemini-2.5-flash\",\n",
        "    instruction=\"\"\"\n",
        "    You are a catering scout. Find 3 catering companies suitable for a {{event_type}} in {{city}}. For each caterer, find an estimated cost.\n",
        "    Output ONLY a JSON object with your findings, like this: {\"caterers\": [{\"name\": \"Caterer A\", \"estimated_cost\": 4000}]}\n",
        "    \"\"\",\n",
        "    tools=[google_search],\n",
        "    output_key=\"catering_options\"\n",
        ")\n",
        "entertainment_scout_agent = Agent(\n",
        "    name=\"entertainment_scout_agent\",\n",
        "    model=\"gemini-2.5-flash\",\n",
        "    instruction=\"\"\"\n",
        "    You are an entertainment scout. Find 3 entertainment options for a {{event_type}} in {{city}}. For each option, find an estimated booking fee.\n",
        "    Output ONLY a JSON object with your findings, like this: {\"entertainment\": [{\"name\": \"DJ A\", \"estimated_cost\": 1500}]}\n",
        "    \"\"\",\n",
        "    tools=[google_search],\n",
        "    output_key=\"entertainment_options\"\n",
        ")\n",
        "initial_plan_synthesizer_agent = Agent(\n",
        "    name=\"initial_plan_synthesizer_agent\",\n",
        "    model=\"gemini-2.5-flash\",\n",
        "    instruction=\"\"\"\n",
        "    You are an initial plan synthesizer. Combine the findings from {{venue_options}}, {{catering_options}}, and {{entertainment_options}} into a single JSON object.\n",
        "    The final JSON must have the keys \"venues\", \"caterers\", and \"entertainment\". Output ONLY the JSON object.\n",
        "    Example: {\"venues\": [...], \"caterers\": [...], \"entertainment\": [...]}\n",
        "    \"\"\",\n",
        "    output_key=\"current_plan\"\n",
        ")\n",
        "\n",
        "# --- Budget Optimizer Team (Instructions Updated) ---\n",
        "accountant_agent = Agent(\n",
        "    name=\"accountant_agent\",\n",
        "    model=\"gemini-2.5-flash\",\n",
        "    tools=[sum_costs],\n",
        "    instruction=f\"\"\"\n",
        "    You are a meticulous accountant. Your budget is {{budget}}. The current list of options is in {{current_plan}}.\n",
        "\n",
        "    Your task is to create the most cost-effective plan and evaluate it:\n",
        "    1. From the lists of 'venues', 'caterers', and 'entertainment', select ONLY the single cheapest option from each category.\n",
        "    2. Create a \"cheapest_plan\" consisting of just these three items.\n",
        "    3. Use the `sum_costs` tool on this \"cheapest_plan\".\n",
        "\n",
        "    - IF the total cost > {{budget}}, your output MUST be a JSON object with a 'critique' and the 'cheapest_plan' you created.\n",
        "    - ELSE, your output MUST be a JSON object where the 'critique' is '{COMPLETION_PHRASE}' and you include the 'cheapest_plan'.\n",
        "\n",
        "    Example Output if over budget:\n",
        "    ```json\n",
        "    {{\n",
        "        \"critique\": \"Even with the cheapest options, this plan is over budget. Find a cheaper venue.\",\n",
        "        \"cheapest_plan\": {{\n",
        "            \"venue\": {{\"name\": \"Affordable Hall\", \"estimated_cost\": 3200}},\n",
        "            \"caterer\": {{\"name\": \"Good Eats Catering\", \"estimated_cost\": 4000}},\n",
        "            \"entertainment\": {{\"name\": \"Local DJ\", \"estimated_cost\": 1000}}\n",
        "        }}\n",
        "    }}\n",
        "    ```\n",
        "    \"\"\",\n",
        "    output_key=\"evaluation\"\n",
        ")\n",
        "cost_cutter_agent = Agent(\n",
        "    name=\"cost_cutter_agent\",\n",
        "    model=\"gemini-2.5-flash\",\n",
        "    tools=[google_search_tool, exit_loop],\n",
        "    instruction=f\"\"\"\n",
        "    You are a cost-cutting expert. You have received an evaluation in the {{evaluation}} variable.\n",
        "\n",
        "    Your task:\n",
        "    1. Check the 'critique' field in the {{evaluation}}.\n",
        "    2. IF the critique is '{COMPLETION_PHRASE}', you MUST call the `exit_loop` tool.\n",
        "    3. ELSE, the plan is over budget. The plan to modify is in the 'cheapest_plan' field of {{evaluation}}.\n",
        "    4. Read the 'critique' to identify which item to replace.\n",
        "    5. Use your search tool to find a single, cheaper alternative for that one item.\n",
        "    6. Output a new, complete JSON plan with this one change, keeping the other items the same.\n",
        "    \"\"\",\n",
        "    output_key=\"current_plan\"\n",
        ")\n",
        "\n",
        "from pydantic import BaseModel, Field\n",
        "\n",
        "# Define the structure of the communication agent's output.\n",
        "class EmailDraft(BaseModel):\n",
        "  \"\"\"A model to hold the components of a draft email.\"\"\"\n",
        "  subject: str = Field(description=\"The compelling subject line for the email.\")\n",
        "  body: str = Field(description=\"The full, well-formatted body of the email.\")\n",
        "\n",
        "# --- Communication Agent ---\n",
        "communications_agent = Agent(\n",
        "    name=\"communications_agent\",\n",
        "    model=\"gemini-2.5-flash\",\n",
        "    instruction=\"\"\"\n",
        "    You are a communications expert. Take the event plan from {{current_plan}}.\n",
        "\n",
        "    Your task is to draft a professional announcement email and format it as a JSON object.\n",
        "    The JSON object must have two keys: \"subject\" and \"body\".\n",
        "\n",
        "    **CRITICAL: Your entire output must be ONLY the raw JSON object. It must start with `{` and end with `}`. Do not include ```json or any other text, introductions, or formatting.**\n",
        "\n",
        "    Example of required output format:\n",
        "    {\n",
        "      \"subject\": \"📢 Announcing Our Exclusive AI Tech Meetup!\",\n",
        "      \"body\": \"Dear AI Enthusiast,\\\\n\\\\nGet ready to connect, learn, and innovate!...\"\n",
        "    }\n",
        "    \"\"\",\n",
        "    output_key=\"email_draft\",\n",
        "    output_schema=EmailDraft\n",
        ")\n",
        "\n",
        "# --- Final Reporting Agent ---\n",
        "final_report_agent = Agent(\n",
        "    name=\"final_report_agent\",\n",
        "    model=\"gemini-2.5-flash\",\n",
        "    instruction=\"\"\"\n",
        "    You are an expert project assistant compiling a final event plan for a client.\n",
        "    Your tone should be professional, clear, and confident.\n",
        "\n",
        "    You have access to the following information:\n",
        "    - `{{current_plan}}`: The final, budget-approved plan with one vendor for each category.\n",
        "    - `{{venue_options}}`, `{{catering_options}}`, `{{entertainment_options}}`: The original lists of all vendors that were scouted.\n",
        "    - `{{budget}}`: The client's initial budget.\n",
        "\n",
        "    Your task is to generate a comprehensive markdown report that follows this exact structure:\n",
        "\n",
        "    1.  **Executive Summary:** Start with a brief paragraph confirming the event details (e.g., event type, city) and state that a cost-effective plan has been found within the budget of ${{budget}}.\n",
        "    2.  **Approved Plan & Cost:** Create a section that clearly lists the single, approved vendor for the Venue, Catering, and Entertainment from `{{current_plan}}`, along with their individual costs. Calculate and display the total final cost.\n",
        "    3.  **Alternative Vendor Options:** Create a section that lists the *other* vendors that were considered from `{{venue_options}}`, `{{catering_options}}`, and `{{entertainment_options}}`. This gives the client extra options for their reference.\n",
        "    4.  **Next Steps:** Conclude the report with a brief, professional statement about next steps (e.g., \"The next steps would be to contact these vendors to finalize bookings.\").\n",
        "\n",
        "    Your entire output must be only the markdown report. Do not add any other conversational text.\n",
        "    \"\"\",\n",
        ")"
      ],
      "metadata": {
        "id": "Sk5FRNdByW47"
      },
      "execution_count": null,
      "outputs": []
    },
    {
      "cell_type": "markdown",
      "source": [
        "## 🔄 6. Assemble All Workflow Agents\n",
        "\n",
        "Now we compose our specialists into the powerful, multi-step workflow agents."
      ],
      "metadata": {
        "id": "1dusPx_fyzDX"
      }
    },
    {
      "cell_type": "code",
      "source": [
        "# --- Parallel Logistics Scout Workflow ---\n",
        "parallel_logistics_scout = ParallelAgent(\n",
        "    name=\"parallel_logistics_scout\",\n",
        "    sub_agents=[venue_scout_agent, catering_scout_agent, entertainment_scout_agent]\n",
        ")\n",
        "\n",
        "initial_planning_workflow = SequentialAgent(\n",
        "    name=\"initial_planning_workflow\",\n",
        "    sub_agents=[parallel_logistics_scout, initial_plan_synthesizer_agent]\n",
        ")\n",
        "\n",
        "\n",
        "# --- Budget Optimizer Workflow (no proposer) ---\n",
        "budget_refinement_loop = LoopAgent(\n",
        "    name=\"budget_refinement_loop\",\n",
        "    sub_agents=[accountant_agent, cost_cutter_agent],\n",
        "    max_iterations=3\n",
        ")\n",
        "budget_optimizer_workflow = SequentialAgent(\n",
        "    name=\"budget_optimizer_workflow\",\n",
        "    sub_agents=[budget_refinement_loop]\n",
        ")\n",
        "\n",
        "# --- Full Autonomous Planning Workflow ---\n",
        "full_plan_workflow = SequentialAgent(\n",
        "    name=\"full_plan_workflow\",\n",
        "    sub_agents=[\n",
        "        intake_agent,\n",
        "        initial_planning_workflow,\n",
        "        budget_optimizer_workflow,\n",
        "        final_report_agent\n",
        "    ]\n",
        ")"
      ],
      "metadata": {
        "id": "o8JTGwTJy22A"
      },
      "execution_count": null,
      "outputs": []
    },
    {
      "cell_type": "markdown",
      "source": [
        "## 👔 7. Build the Master Orchestrator\n",
        "\n",
        "This is our final, user-facing \"Genie.\" Its only job is to delegate tasks to its powerful team of tools."
      ],
      "metadata": {
        "id": "zus5mHtGy-BQ"
      }
    },
    {
      "cell_type": "code",
      "source": [
        "# --- Wrap all necessary agents/workflows as tools ---\n",
        "full_plan_workflow_tool = AgentTool(agent=full_plan_workflow)\n",
        "guest_list_manager_tool = AgentTool(agent=guest_management_agent)\n",
        "communications_tool = AgentTool(agent=communications_agent)\n",
        "\n",
        "# --- The Master Orchestrator ---\n",
        "master_orchestrator_agent = Agent(\n",
        "    name=\"master_orchestrator_agent\",\n",
        "    model=\"gemini-2.5-flash\",\n",
        "    instruction=\"\"\"\n",
        "    You are the master event planning assistant. Delegate tasks to the correct tool.\n",
        "    - For high-level planning requests (budgeting, finding vendors), use `full_plan_workflow_tool`.\n",
        "    - For simple guest management (add, view), use `guest_list_manager_tool`.\n",
        "    - To draft an announcement email, use `communications_tool`.\n",
        "    - To send the final email, use `send_mock_email`.\n",
        "\n",
        "    - **IMPORTANT**: When the `communications_tool` is used, its output will be a JSON object with a 'subject' and a 'body'. You MUST format this into a clean, human-readable email draft for the user. Do not just show the raw JSON.\n",
        "    \"\"\",\n",
        "    tools=[\n",
        "        full_plan_workflow_tool,\n",
        "        guest_list_manager_tool,\n",
        "        communications_tool,\n",
        "        send_mock_email\n",
        "    ]\n",
        ")"
      ],
      "metadata": {
        "id": "3J0Z0_PdzAls"
      },
      "execution_count": null,
      "outputs": []
    },
    {
      "cell_type": "markdown",
      "source": [
        "## 🚀 8. Build the Execution Engine\n",
        "\n",
        "This is our standard helper function for running queries, which handles the Runner and streams the final response."
      ],
      "metadata": {
        "id": "WtRNCND-zEit"
      }
    },
    {
      "cell_type": "code",
      "source": [
        "from IPython.display import display, Markdown\n",
        "from google.genai.types import Content, Part\n",
        "from google.adk.runners import Runner\n",
        "from google.adk.sessions import InMemorySessionService, Session\n",
        "\n",
        "async def run_agent_query(agent: Agent, query: str, session: Session, user_id: str):\n",
        "    \"\"\"Initializes a runner and executes a query for a given agent and session.\"\"\"\n",
        "    print(f\"\\n🚀 Running query for agent: '{agent.name}' in session: '{session.id}'...\")\n",
        "    runner = Runner(agent=agent, session_service=session_service, app_name=agent.name)\n",
        "    final_response = \"\"\n",
        "    try:\n",
        "        async for event in runner.run_async(\n",
        "            user_id=user_id,\n",
        "            session_id=session.id,\n",
        "            new_message=Content(parts=[Part(text=query)], role=\"user\")\n",
        "        ):\n",
        "            if event.is_final_response():\n",
        "                final_response = event.content.parts[0].text\n",
        "    except Exception as e:\n",
        "        final_response = f\"An error occurred: {e}\"\n",
        "\n",
        "    print(\"\\n\" + \"-\"*50)\n",
        "    print(\"✅ Final Response:\")\n",
        "    display(Markdown(final_response))\n",
        "    print(\"-\"*50 + \"\\n\")\n",
        "    return final_response"
      ],
      "metadata": {
        "id": "ayudpwQozFYl"
      },
      "execution_count": null,
      "outputs": []
    },
    {
      "cell_type": "markdown",
      "source": [
        "## ✨ 9. Initialize Session and Run the Workflow\n",
        "\n",
        "Finally, we set up our InMemorySessionService and define our main execution block. We set the initial budget and topic in the session state, then kick off the entire autonomous workflow with a single call."
      ],
      "metadata": {
        "id": "eZcVVndAzlOo"
      }
    },
    {
      "cell_type": "code",
      "source": [
        "from google.adk.sessions import InMemorySessionService\n",
        "\n",
        "\n",
        "# --- Initialize our Session Service ---\n",
        "# This one service will manage all the different sessions in our notebook.\n",
        "session_service = InMemorySessionService()\n",
        "user_id = \"adk_event_planner_001\""
      ],
      "metadata": {
        "id": "EC6LH1eJziRp"
      },
      "execution_count": null,
      "outputs": []
    },
    {
      "cell_type": "markdown",
      "source": [
        "## ✨ 10. The Grand Finale: Run the Full Conversation\n",
        "\n",
        "Finally, we initialize our SessionService and run a full, multi-turn conversation with our \"Autonomous Event Genie.\""
      ],
      "metadata": {
        "id": "-BzroGlIztU3"
      }
    },
    {
      "cell_type": "code",
      "source": [
        "async def run_capstone_project():\n",
        "    session = await session_service.create_session(\n",
        "        app_name=master_orchestrator_agent.name,\n",
        "        user_id=user_id\n",
        "    )\n",
        "\n",
        "    # --- The Conversation ---\n",
        "    query1 = \"I need to plan a 50-person AI tech meetup in Austin, Texas with a budget of $4000. Find some vendors.\"\n",
        "    print(f\"🗣️ User: {query1}\")\n",
        "    await run_agent_query(master_orchestrator_agent, query1, session, user_id)\n",
        "\n",
        "    query2 = \"This looks great. Please add 'Grace Hopper' to the guest list. Her email is grace@example.com.\"\n",
        "    print(f\"🗣️ User: {query2}\")\n",
        "    await run_agent_query(master_orchestrator_agent, query2, session, user_id)\n",
        "\n",
        "    query3 = \"Now, please draft an announcement email based on the final plan.\"\n",
        "    print(f\"🗣️ User: {query3}\")\n",
        "    await run_agent_query(master_orchestrator_agent, query3, session, user_id)\n",
        "\n",
        "    query4 = \"Perfect. Please send the email to the guest list.\"\n",
        "    print(f\"🗣️ User: {query4}\")\n",
        "    await run_agent_query(master_orchestrator_agent, query4, session, user_id)\n",
        "\n",
        "# Run the full system\n",
        "await run_capstone_project()"
      ],
      "metadata": {
        "id": "AdWP-k71zsfF"
      },
      "execution_count": null,
      "outputs": []
    }
  ]
}
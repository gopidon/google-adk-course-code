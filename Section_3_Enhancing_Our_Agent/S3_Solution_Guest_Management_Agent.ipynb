{
  "nbformat": 4,
  "nbformat_minor": 0,
  "metadata": {
    "colab": {
      "provenance": []
    },
    "kernelspec": {
      "name": "python3",
      "display_name": "Python 3"
    },
    "language_info": {
      "name": "python"
    }
  },
  "cells": [
    {
      "cell_type": "markdown",
      "source": [
        "## ⚙️ 1. Setup: Install the ADK Library\n",
        "\n",
        "First, let's install the specific version of the Google Agent Development Kit (ADK) that this notebook is built with. Pinning the version ensures our code will always work as expected."
      ],
      "metadata": {
        "id": "NbAgYxYGYiVw"
      }
    },
    {
      "cell_type": "code",
      "execution_count": null,
      "metadata": {
        "id": "o4BS13fPJv4a"
      },
      "outputs": [],
      "source": [
        "!pip install google-adk==1.8.0 -q"
      ]
    },
    {
      "cell_type": "markdown",
      "source": [
        "## 🔑 2. Authentication: Configure Your API Key\n",
        "\n",
        "Next, we need to securely provide our Google API key. This code will create a secure input prompt for you to paste your key. It then sets the key as an environment variable, which is the standard way the ADK authenticates your requests."
      ],
      "metadata": {
        "id": "MnOxNckAYoGH"
      }
    },
    {
      "cell_type": "code",
      "source": [
        "import os\n",
        "from getpass import getpass\n",
        "\n",
        "# Prompt the user for their API key securely\n",
        "api_key = getpass('Enter your Google API Key: ')\n",
        "\n",
        "# Set the API key as an environment variable for ADK to use\n",
        "os.environ['GOOGLE_API_KEY'] = api_key\n",
        "\n",
        "print(\"✅ API Key configured successfully! Let the fun begin.\")"
      ],
      "metadata": {
        "id": "9gQk9Jo2LCOF"
      },
      "execution_count": null,
      "outputs": []
    },
    {
      "cell_type": "markdown",
      "source": [
        "## 🛠️ 3. Creating Custom Tools\n",
        "\n",
        "The real power of agents comes from giving them custom skills. Here, we define two simple Python functions, add_guest and get_guest_list, to manage an event's guest list. The ADK is smart enough to use these functions as tools, relying on their names and docstrings to understand what they do."
      ],
      "metadata": {
        "id": "bNEZ3e5UYwZ6"
      }
    },
    {
      "cell_type": "code",
      "source": [
        "import json\n",
        "# Simple dictionary to act as our guest list database.\n",
        "GUEST_DATABASE = {}\n",
        "\n",
        "def add_guest(name: str, email: str) -> str:\n",
        "  \"\"\"Adds a guest's name and email to the event's guest list.\"\"\"\n",
        "  print(f\"Tool executed: Adding guest '{name}' with email '{email}'.\")\n",
        "  GUEST_DATABASE[email] = name\n",
        "  return f\"Successfully added {name} to the guest list.\"\n",
        "\n",
        "def get_guest_list() -> str:\n",
        "  \"\"\"Retrieves the current list of all registered guests for the event.\"\"\"\n",
        "  print(\"Tool executed: Retrieving guest list.\")\n",
        "  if not GUEST_DATABASE:\n",
        "    return \"The guest list is currently empty.\"\n",
        "  return json.dumps(GUEST_DATABASE)"
      ],
      "metadata": {
        "id": "ctG7uINqLLRh"
      },
      "execution_count": null,
      "outputs": []
    },
    {
      "cell_type": "markdown",
      "source": [
        "## ⚠️ 4. An Important Lesson: Trying to Mix Tool Types\n",
        "\n",
        "Our first instinct might be to add our new custom tools directly to the event_planner_agent from Part 1. In this cell, we'll define an agent that attempts to mix the built-in Google Search tool with our new custom functions. As we'll see in the next step, this will fail, but it teaches us an important lesson about agent design."
      ],
      "metadata": {
        "id": "rRe-CNgZY0cY"
      }
    },
    {
      "cell_type": "code",
      "source": [
        "from google.adk.agents import Agent\n",
        "from google.adk.tools import google_search\n",
        "\n",
        "event_planner_agent = Agent(\n",
        "    name=\"event_planner_agent\",\n",
        "    model=\"gemini-2.5-flash\",\n",
        "    instruction=\"An agent that plans events and manages guests.\",\n",
        "    # Attempting to mix a built-in tool with custom function tools\n",
        "    tools=[google_search, add_guest, get_guest_list]\n",
        ")"
      ],
      "metadata": {
        "id": "-88TxIhVYHTo"
      },
      "execution_count": null,
      "outputs": []
    },
    {
      "cell_type": "markdown",
      "source": [
        "## 🚀 5. Building the Execution Engine\n",
        "\n",
        "This is our helper function to run queries. It handles the core ADK logic: initializing the Runner, streaming events with run_async, and displaying the final response. We'll use this function to interact with all the agents we create."
      ],
      "metadata": {
        "id": "QOmkEyGLY7k7"
      }
    },
    {
      "cell_type": "code",
      "source": [
        "from IPython.display import display, Markdown\n",
        "\n",
        "from google.genai.types import Content, Part\n",
        "from google.adk.runners import Runner\n",
        "from google.adk.sessions import InMemorySessionService, Session\n",
        "\n",
        "async def run_agent_query(agent: Agent, query: str, session: Session, user_id: str):\n",
        "    \"\"\"Initializes a runner and executes a query for a given agent and session.\"\"\"\n",
        "    print(f\"\\n🚀 Running query for agent: '{agent.name}' in session: '{session.id}'...\")\n",
        "\n",
        "    runner = Runner(\n",
        "        agent=agent,\n",
        "        session_service=session_service,\n",
        "        app_name=agent.name\n",
        "    )\n",
        "\n",
        "    final_response = \"\"\n",
        "    try:\n",
        "        async for event in runner.run_async(\n",
        "            user_id=user_id,\n",
        "            session_id=session.id,\n",
        "            new_message=Content(parts=[Part(text=query)], role=\"user\")\n",
        "        ):\n",
        "            if event.is_final_response():\n",
        "                final_response = event.content.parts[0].text\n",
        "    except Exception as e:\n",
        "        final_response = f\"An error occurred: {e}\"\n",
        "\n",
        "    print(\"\\n\" + \"-\"*50)\n",
        "    print(\"✅ Final Response:\")\n",
        "    display(Markdown(final_response))\n",
        "    print(\"-\"*50 + \"\\n\")\n",
        "\n",
        "    return final_response\n",
        "\n",
        "# --- Initialize our Session Service ---\n",
        "session_service = InMemorySessionService()\n",
        "user_id = \"adk_event_planner_001\""
      ],
      "metadata": {
        "id": "J7RyLNWYYa-Q"
      },
      "execution_count": null,
      "outputs": []
    },
    {
      "cell_type": "markdown",
      "source": [
        "## 💥 6. Seeing the Error in Action\n",
        "\n",
        "Now, let's try to run our event_planner_agent that has mixed tools. Executing this cell will produce an error. This is expected and demonstrates the ADK's design principle that encourages creating specialized agents instead of one agent that does everything."
      ],
      "metadata": {
        "id": "jDT0KpptY-Pc"
      }
    },
    {
      "cell_type": "code",
      "source": [
        "# This will NOT work\n",
        "async def run_event_planner():\n",
        "    # Create a new, single-use session for this query\n",
        "    event_planning_session = await session_service.create_session(\n",
        "        app_name=event_planner_agent.name,\n",
        "        user_id=user_id\n",
        "    )\n",
        "\n",
        "    # Note the new budget constraint in the query!\n",
        "    query = \"Plan a small tech meetup for 30 people in New York on AI/ML\"\n",
        "    print(f\"🗣️ User Query: '{query}'\")\n",
        "\n",
        "    await run_agent_query(event_planner_agent, query, event_planning_session, user_id)\n",
        "\n",
        "await run_event_planner()"
      ],
      "metadata": {
        "id": "HcLvkoGdYuk8"
      },
      "execution_count": null,
      "outputs": []
    },
    {
      "cell_type": "markdown",
      "source": [
        "## ✅ 7. The Solution: The Specialist Agent\n",
        "\n",
        "The correct pattern is to create a specialist agent that groups related custom tools. Here, we define the guest_management_agent. Its only job is to be an expert at managing the guest list using the add_guest and get_guest_list tools."
      ],
      "metadata": {
        "id": "FziQKOgTZIZe"
      }
    },
    {
      "cell_type": "code",
      "source": [
        "guest_management_agent = Agent(\n",
        "    name=\"guest_management_agent\",\n",
        "    model=\"gemini-2.5-flash\",\n",
        "    description=\"A specialized agent for managing an event's guest list. It can add guests and retrieve the current list.\",\n",
        "    instruction=\"\"\"\n",
        "    You are a guest management assistant. Your only job is to add guests to a list\n",
        "    or retrieve the full list when asked.\n",
        "    - Use the `add_guest` tool to add a new person to the list.\n",
        "    - Use the `get_guest_list` tool to show the current guest list.\n",
        "    You do not perform any other tasks like planning events or searching for information.\n",
        "    Stick strictly to managing the guest list with your tools.\n",
        "    \"\"\",\n",
        "    tools=[add_guest, get_guest_list]\n",
        ")\n",
        "print(f\"🧞 Specialist Agent '{guest_management_agent.name}' is created and ready!\")"
      ],
      "metadata": {
        "id": "oA6lEVJPLRZa"
      },
      "execution_count": null,
      "outputs": []
    },
    {
      "cell_type": "markdown",
      "source": [
        "## ✨ 8. Testing Our Specialist Agent\n",
        "\n",
        "Finally, let's run our new guest_management_agent to prove that it works correctly on its own. We'll send it two queries in the same session to test both of its custom tools and see how it uses its memory."
      ],
      "metadata": {
        "id": "eO1LOwlhZNYh"
      }
    },
    {
      "cell_type": "code",
      "source": [
        "async def run_guest_manager():\n",
        "    guest_management_session = await session_service.create_session(\n",
        "        app_name=guest_management_agent.name,\n",
        "        user_id=user_id\n",
        "    )\n",
        "\n",
        "    # Run two queries in the same session\n",
        "    query1 = \"Add 'Tim Apple' with email 'tim.a@example.com' to the guest list.\"\n",
        "    await run_agent_query(guest_management_agent, query1, guest_management_session, user_id)\n",
        "\n",
        "    query2 = \"Now show me the guest list.\"\n",
        "    await run_agent_query(guest_management_agent, query2, guest_management_session, user_id)\n",
        "\n",
        "await run_guest_manager()"
      ],
      "metadata": {
        "id": "wW_MfMrVbpiB"
      },
      "execution_count": null,
      "outputs": []
    }
  ]
}
